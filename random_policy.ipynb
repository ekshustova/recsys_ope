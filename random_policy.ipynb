{
  "nbformat": 4,
  "nbformat_minor": 0,
  "metadata": {
    "colab": {
      "provenance": []
    },
    "kernelspec": {
      "name": "python3",
      "display_name": "Python 3"
    },
    "language_info": {
      "name": "python"
    }
  },
  "cells": [
    {
      "cell_type": "code",
      "execution_count": 2,
      "metadata": {
        "colab": {
          "base_uri": "https://localhost:8080/"
        },
        "id": "bpB3i_bOOd33",
        "outputId": "316ec8a1-9a1c-4481-ad95-f46a121924e2"
      },
      "outputs": [
        {
          "output_type": "stream",
          "name": "stdout",
          "text": [
            "Cloning into 'zr-obp'...\n",
            "remote: Enumerating objects: 6652, done.\u001b[K\n",
            "remote: Counting objects: 100% (727/727), done.\u001b[K\n",
            "remote: Compressing objects: 100% (122/122), done.\u001b[K\n",
            "remote: Total 6652 (delta 629), reused 605 (delta 605), pack-reused 5925 (from 2)\u001b[K\n",
            "Receiving objects: 100% (6652/6652), 29.21 MiB | 31.72 MiB/s, done.\n",
            "Resolving deltas: 100% (4675/4675), done.\n",
            "version\n",
            "0.5.5\n",
            "INFO:root:running install\n",
            "/usr/local/lib/python3.11/dist-packages/setuptools/_distutils/cmd.py:66: SetuptoolsDeprecationWarning: setup.py install is deprecated.\n",
            "!!\n",
            "\n",
            "        ********************************************************************************\n",
            "        Please avoid running ``setup.py`` directly.\n",
            "        Instead, use pypa/build, pypa/installer or other\n",
            "        standards-based tools.\n",
            "\n",
            "        See https://blog.ganssle.io/articles/2021/10/setup-py-deprecated.html for details.\n",
            "        ********************************************************************************\n",
            "\n",
            "!!\n",
            "  self.initialize_options()\n",
            "/usr/local/lib/python3.11/dist-packages/setuptools/_distutils/cmd.py:66: EasyInstallDeprecationWarning: easy_install command is deprecated.\n",
            "!!\n",
            "\n",
            "        ********************************************************************************\n",
            "        Please avoid running ``setup.py`` and ``easy_install``.\n",
            "        Instead, use pypa/build, pypa/installer or other\n",
            "        standards-based tools.\n",
            "\n",
            "        See https://github.com/pypa/setuptools/issues/917 for details.\n",
            "        ********************************************************************************\n",
            "\n",
            "!!\n",
            "  self.initialize_options()\n",
            "INFO:root:running bdist_egg\n",
            "INFO:root:running egg_info\n",
            "INFO:root:creating obp.egg-info\n",
            "INFO:root:writing obp.egg-info/PKG-INFO\n",
            "INFO:root:writing dependency_links to obp.egg-info/dependency_links.txt\n",
            "INFO:root:writing requirements to obp.egg-info/requires.txt\n",
            "INFO:root:writing top-level names to obp.egg-info/top_level.txt\n",
            "INFO:root:writing manifest file 'obp.egg-info/SOURCES.txt'\n",
            "INFO:root:reading manifest file 'obp.egg-info/SOURCES.txt'\n",
            "INFO:root:writing manifest file 'obp.egg-info/SOURCES.txt'\n",
            "INFO:root:installing library code to build/bdist.linux-x86_64/egg\n",
            "INFO:root:running install_lib\n",
            "WARNING:root:warning: install_lib: 'build/lib' does not exist -- no Python modules to install\n",
            "\n",
            "INFO:root:creating build/bdist.linux-x86_64/egg/EGG-INFO\n",
            "INFO:root:copying obp.egg-info/PKG-INFO -> build/bdist.linux-x86_64/egg/EGG-INFO\n",
            "INFO:root:copying obp.egg-info/SOURCES.txt -> build/bdist.linux-x86_64/egg/EGG-INFO\n",
            "INFO:root:copying obp.egg-info/dependency_links.txt -> build/bdist.linux-x86_64/egg/EGG-INFO\n",
            "INFO:root:copying obp.egg-info/requires.txt -> build/bdist.linux-x86_64/egg/EGG-INFO\n",
            "INFO:root:copying obp.egg-info/top_level.txt -> build/bdist.linux-x86_64/egg/EGG-INFO\n",
            "WARNING:root:zip_safe flag not set; analyzing archive contents...\n",
            "INFO:root:creating dist\n",
            "INFO:root:creating 'dist/obp-0.5.5-py3.11.egg' and adding 'build/bdist.linux-x86_64/egg' to it\n",
            "INFO:root:removing 'build/bdist.linux-x86_64/egg' (and everything under it)\n",
            "INFO:root:Processing obp-0.5.5-py3.11.egg\n",
            "INFO:root:Copying obp-0.5.5-py3.11.egg to /usr/local/lib/python3.11/dist-packages\n",
            "INFO:root:Adding obp 0.5.5 to easy-install.pth file\n",
            "INFO:root:\n",
            "Installed /usr/local/lib/python3.11/dist-packages/obp-0.5.5-py3.11.egg\n",
            "INFO:root:Processing dependencies for obp==0.5.5\n",
            "INFO:root:Searching for pingouin>=0.4.0\n",
            "INFO:root:Reading https://pypi.org/simple/pingouin/\n",
            "INFO:root:Downloading https://files.pythonhosted.org/packages/eb/56/6d3607f3a78aee1de8e5466f5171722c8e344266a12dc44ccb73d024b3b3/pingouin-0.5.5-py3-none-any.whl#sha256=3156afe44ee5541131200848ee905937930757b615aca8eed8438ad4d4e20ef1\n",
            "INFO:root:Best match: pingouin 0.5.5\n",
            "INFO:root:Processing pingouin-0.5.5-py3-none-any.whl\n",
            "INFO:root:Installing pingouin-0.5.5-py3-none-any.whl to /usr/local/lib/python3.11/dist-packages\n",
            "INFO:root:Adding pingouin 0.5.5 to easy-install.pth file\n",
            "INFO:root:detected new path './obp-0.5.5-py3.11.egg'\n",
            "INFO:root:\n",
            "Installed /usr/local/lib/python3.11/dist-packages/pingouin-0.5.5-py3.11.egg\n",
            "INFO:root:Searching for pyieoe>=0.1.1\n",
            "INFO:root:Reading https://pypi.org/simple/pyieoe/\n",
            "INFO:root:Downloading https://files.pythonhosted.org/packages/ee/5e/6789c133597ed370ebf870db1f6aa798fd712eba617e3898d0f99f590b98/pyieoe-0.1.1.tar.gz#sha256=679bee6e437cbba7bae9462a5d52d7d1a71bc7568aa4f80eec0add1dc3126b78\n",
            "INFO:root:Best match: pyieoe 0.1.1\n",
            "INFO:root:Processing pyieoe-0.1.1.tar.gz\n",
            "INFO:root:Writing /tmp/easy_install-8j8wt_9b/pyieoe-0.1.1/setup.cfg\n",
            "INFO:root:Running pyieoe-0.1.1/setup.py -q bdist_egg --dist-dir /tmp/easy_install-8j8wt_9b/pyieoe-0.1.1/egg-dist-tmp-11vfjvd3\n",
            "version: 0.1.1\n",
            "/usr/local/lib/python3.11/dist-packages/setuptools/_distutils/cmd.py:66: SetuptoolsDeprecationWarning: setup.py install is deprecated.\n",
            "!!\n",
            "\n",
            "        ********************************************************************************\n",
            "        Please avoid running ``setup.py`` directly.\n",
            "        Instead, use pypa/build, pypa/installer or other\n",
            "        standards-based tools.\n",
            "\n",
            "        See https://blog.ganssle.io/articles/2021/10/setup-py-deprecated.html for details.\n",
            "        ********************************************************************************\n",
            "\n",
            "!!\n",
            "  self.initialize_options()\n",
            "WARNING:root:zip_safe flag not set; analyzing archive contents...\n",
            "INFO:root:Adding pyieoe 0.1.1 to easy-install.pth file\n",
            "INFO:root:detected new path './pingouin-0.5.5-py3.11.egg'\n",
            "INFO:root:\n",
            "Installed /usr/local/lib/python3.11/dist-packages/pyieoe-0.1.1-py3.11.egg\n",
            "INFO:root:Searching for mypy-extensions>=0.4.3\n",
            "INFO:root:Reading https://pypi.org/simple/mypy-extensions/\n",
            "INFO:root:Downloading https://files.pythonhosted.org/packages/2a/e2/5d3f6ada4297caebe1a2add3b126fe800c96f56dbe5d1988a2cbe0b267aa/mypy_extensions-1.0.0-py3-none-any.whl#sha256=4392f6c0eb8a5668a69e23d168ffa70f0be9ccfd32b5cc2d26a34ae5b844552d\n",
            "INFO:root:Best match: mypy-extensions 1.0.0\n",
            "INFO:root:Processing mypy_extensions-1.0.0-py3-none-any.whl\n",
            "INFO:root:Installing mypy_extensions-1.0.0-py3-none-any.whl to /usr/local/lib/python3.11/dist-packages\n",
            "INFO:root:Adding mypy-extensions 1.0.0 to easy-install.pth file\n",
            "INFO:root:detected new path './pyieoe-0.1.1-py3.11.egg'\n",
            "INFO:root:\n",
            "Installed /usr/local/lib/python3.11/dist-packages/mypy_extensions-1.0.0-py3.11.egg\n",
            "INFO:root:Searching for pandas-flavor\n",
            "INFO:root:Reading https://pypi.org/simple/pandas-flavor/\n",
            "INFO:root:Downloading https://files.pythonhosted.org/packages/67/1a/bfb5574b215f530c7ac5be684f33d60b299abbebd763c203aa31755f2fb2/pandas_flavor-0.6.0-py3-none-any.whl#sha256=a32c9e2e0da702579320cf2bd0078cee91807713bc9c65ff522f6b0289899893\n",
            "INFO:root:Best match: pandas-flavor 0.6.0\n",
            "INFO:root:Processing pandas_flavor-0.6.0-py3-none-any.whl\n",
            "INFO:root:Installing pandas_flavor-0.6.0-py3-none-any.whl to /usr/local/lib/python3.11/dist-packages\n",
            "INFO:root:Adding pandas-flavor 0.6.0 to easy-install.pth file\n",
            "INFO:root:detected new path './mypy_extensions-1.0.0-py3.11.egg'\n",
            "INFO:root:\n",
            "Installed /usr/local/lib/python3.11/dist-packages/pandas_flavor-0.6.0-py3.11.egg\n",
            "INFO:root:Searching for nvidia-nvjitlink-cu12==12.4.127; platform_system == \"Linux\" and platform_machine == \"x86_64\"\n",
            "INFO:root:Reading https://pypi.org/simple/nvidia-nvjitlink-cu12/\n",
            "INFO:root:Downloading https://files.pythonhosted.org/packages/ff/ff/847841bacfbefc97a00036e0fce5a0f086b640756dc38caea5e1bb002655/nvidia_nvjitlink_cu12-12.4.127-py3-none-manylinux2014_x86_64.whl#sha256=06b3b9b25bf3f8af351d664978ca26a16d2c5127dbd53c0497e28d1fb9611d57\n",
            "INFO:root:Best match: nvidia-nvjitlink-cu12 12.4.127\n",
            "INFO:root:Processing nvidia_nvjitlink_cu12-12.4.127-py3-none-manylinux2014_x86_64.whl\n",
            "INFO:root:Installing nvidia_nvjitlink_cu12-12.4.127-py3-none-manylinux2014_x86_64.whl to /usr/local/lib/python3.11/dist-packages\n",
            "INFO:root:Adding nvidia-nvjitlink-cu12 12.4.127 to easy-install.pth file\n",
            "INFO:root:detected new path './pandas_flavor-0.6.0-py3.11.egg'\n",
            "INFO:root:\n",
            "Installed /usr/local/lib/python3.11/dist-packages/nvidia_nvjitlink_cu12-12.4.127-py3.11-linux-x86_64.egg\n",
            "INFO:root:Searching for nvidia-cusparse-cu12==12.3.1.170; platform_system == \"Linux\" and platform_machine == \"x86_64\"\n",
            "INFO:root:Reading https://pypi.org/simple/nvidia-cusparse-cu12/\n",
            "INFO:root:Downloading https://files.pythonhosted.org/packages/db/f7/97a9ea26ed4bbbfc2d470994b8b4f338ef663be97b8f677519ac195e113d/nvidia_cusparse_cu12-12.3.1.170-py3-none-manylinux2014_x86_64.whl#sha256=ea4f11a2904e2a8dc4b1833cc1b5181cde564edd0d5cd33e3c168eff2d1863f1\n",
            "INFO:root:Best match: nvidia-cusparse-cu12 12.3.1.170\n",
            "INFO:root:Processing nvidia_cusparse_cu12-12.3.1.170-py3-none-manylinux2014_x86_64.whl\n",
            "INFO:root:Installing nvidia_cusparse_cu12-12.3.1.170-py3-none-manylinux2014_x86_64.whl to /usr/local/lib/python3.11/dist-packages\n",
            "INFO:root:Adding nvidia-cusparse-cu12 12.3.1.170 to easy-install.pth file\n",
            "INFO:root:detected new path './nvidia_nvjitlink_cu12-12.4.127-py3.11-linux-x86_64.egg'\n",
            "INFO:root:\n",
            "Installed /usr/local/lib/python3.11/dist-packages/nvidia_cusparse_cu12-12.3.1.170-py3.11-linux-x86_64.egg\n",
            "INFO:root:Searching for nvidia-cusolver-cu12==11.6.1.9; platform_system == \"Linux\" and platform_machine == \"x86_64\"\n",
            "INFO:root:Reading https://pypi.org/simple/nvidia-cusolver-cu12/\n",
            "INFO:root:Downloading https://files.pythonhosted.org/packages/3a/e1/5b9089a4b2a4790dfdea8b3a006052cfecff58139d5a4e34cb1a51df8d6f/nvidia_cusolver_cu12-11.6.1.9-py3-none-manylinux2014_x86_64.whl#sha256=19e33fa442bcfd085b3086c4ebf7e8debc07cfe01e11513cc6d332fd918ac260\n",
            "INFO:root:Best match: nvidia-cusolver-cu12 11.6.1.9\n",
            "INFO:root:Processing nvidia_cusolver_cu12-11.6.1.9-py3-none-manylinux2014_x86_64.whl\n",
            "INFO:root:Installing nvidia_cusolver_cu12-11.6.1.9-py3-none-manylinux2014_x86_64.whl to /usr/local/lib/python3.11/dist-packages\n",
            "INFO:root:Adding nvidia-cusolver-cu12 11.6.1.9 to easy-install.pth file\n",
            "INFO:root:detected new path './nvidia_cusparse_cu12-12.3.1.170-py3.11-linux-x86_64.egg'\n",
            "INFO:root:\n",
            "Installed /usr/local/lib/python3.11/dist-packages/nvidia_cusolver_cu12-11.6.1.9-py3.11-linux-x86_64.egg\n",
            "INFO:root:Searching for nvidia-curand-cu12==10.3.5.147; platform_system == \"Linux\" and platform_machine == \"x86_64\"\n",
            "INFO:root:Reading https://pypi.org/simple/nvidia-curand-cu12/\n",
            "INFO:root:Downloading https://files.pythonhosted.org/packages/8a/6d/44ad094874c6f1b9c654f8ed939590bdc408349f137f9b98a3a23ccec411/nvidia_curand_cu12-10.3.5.147-py3-none-manylinux2014_x86_64.whl#sha256=a88f583d4e0bb643c49743469964103aa59f7f708d862c3ddb0fc07f851e3b8b\n",
            "INFO:root:Best match: nvidia-curand-cu12 10.3.5.147\n",
            "INFO:root:Processing nvidia_curand_cu12-10.3.5.147-py3-none-manylinux2014_x86_64.whl\n",
            "INFO:root:Installing nvidia_curand_cu12-10.3.5.147-py3-none-manylinux2014_x86_64.whl to /usr/local/lib/python3.11/dist-packages\n",
            "INFO:root:Adding nvidia-curand-cu12 10.3.5.147 to easy-install.pth file\n",
            "INFO:root:detected new path './nvidia_cusolver_cu12-11.6.1.9-py3.11-linux-x86_64.egg'\n",
            "INFO:root:\n",
            "Installed /usr/local/lib/python3.11/dist-packages/nvidia_curand_cu12-10.3.5.147-py3.11-linux-x86_64.egg\n",
            "INFO:root:Searching for nvidia-cufft-cu12==11.2.1.3; platform_system == \"Linux\" and platform_machine == \"x86_64\"\n",
            "INFO:root:Reading https://pypi.org/simple/nvidia-cufft-cu12/\n",
            "INFO:root:Downloading https://files.pythonhosted.org/packages/27/94/3266821f65b92b3138631e9c8e7fe1fb513804ac934485a8d05776e1dd43/nvidia_cufft_cu12-11.2.1.3-py3-none-manylinux2014_x86_64.whl#sha256=f083fc24912aa410be21fa16d157fed2055dab1cc4b6934a0e03cba69eb242b9\n",
            "INFO:root:Best match: nvidia-cufft-cu12 11.2.1.3\n",
            "INFO:root:Processing nvidia_cufft_cu12-11.2.1.3-py3-none-manylinux2014_x86_64.whl\n",
            "INFO:root:Installing nvidia_cufft_cu12-11.2.1.3-py3-none-manylinux2014_x86_64.whl to /usr/local/lib/python3.11/dist-packages\n",
            "INFO:root:Adding nvidia-cufft-cu12 11.2.1.3 to easy-install.pth file\n",
            "INFO:root:detected new path './nvidia_curand_cu12-10.3.5.147-py3.11-linux-x86_64.egg'\n",
            "INFO:root:\n",
            "Installed /usr/local/lib/python3.11/dist-packages/nvidia_cufft_cu12-11.2.1.3-py3.11-linux-x86_64.egg\n",
            "INFO:root:Searching for nvidia-cublas-cu12==12.4.5.8; platform_system == \"Linux\" and platform_machine == \"x86_64\"\n",
            "INFO:root:Reading https://pypi.org/simple/nvidia-cublas-cu12/\n",
            "INFO:root:Downloading https://files.pythonhosted.org/packages/ae/71/1c91302526c45ab494c23f61c7a84aa568b8c1f9d196efa5993957faf906/nvidia_cublas_cu12-12.4.5.8-py3-none-manylinux2014_x86_64.whl#sha256=2fc8da60df463fdefa81e323eef2e36489e1c94335b5358bcb38360adf75ac9b\n",
            "INFO:root:Best match: nvidia-cublas-cu12 12.4.5.8\n",
            "INFO:root:Processing nvidia_cublas_cu12-12.4.5.8-py3-none-manylinux2014_x86_64.whl\n",
            "INFO:root:Installing nvidia_cublas_cu12-12.4.5.8-py3-none-manylinux2014_x86_64.whl to /usr/local/lib/python3.11/dist-packages\n",
            "INFO:root:Adding nvidia-cublas-cu12 12.4.5.8 to easy-install.pth file\n",
            "INFO:root:detected new path './nvidia_cufft_cu12-11.2.1.3-py3.11-linux-x86_64.egg'\n",
            "INFO:root:\n",
            "Installed /usr/local/lib/python3.11/dist-packages/nvidia_cublas_cu12-12.4.5.8-py3.11-linux-x86_64.egg\n",
            "INFO:root:Searching for nvidia-cudnn-cu12==9.1.0.70; platform_system == \"Linux\" and platform_machine == \"x86_64\"\n",
            "INFO:root:Reading https://pypi.org/simple/nvidia-cudnn-cu12/\n",
            "INFO:root:Downloading https://files.pythonhosted.org/packages/9f/fd/713452cd72343f682b1c7b9321e23829f00b842ceaedcda96e742ea0b0b3/nvidia_cudnn_cu12-9.1.0.70-py3-none-manylinux2014_x86_64.whl#sha256=165764f44ef8c61fcdfdfdbe769d687e06374059fbb388b6c89ecb0e28793a6f\n",
            "INFO:root:Best match: nvidia-cudnn-cu12 9.1.0.70\n",
            "INFO:root:Processing nvidia_cudnn_cu12-9.1.0.70-py3-none-manylinux2014_x86_64.whl\n",
            "INFO:root:Installing nvidia_cudnn_cu12-9.1.0.70-py3-none-manylinux2014_x86_64.whl to /usr/local/lib/python3.11/dist-packages\n",
            "INFO:root:Adding nvidia-cudnn-cu12 9.1.0.70 to easy-install.pth file\n",
            "INFO:root:detected new path './nvidia_cublas_cu12-12.4.5.8-py3.11-linux-x86_64.egg'\n",
            "INFO:root:\n",
            "Installed /usr/local/lib/python3.11/dist-packages/nvidia_cudnn_cu12-9.1.0.70-py3.11-linux-x86_64.egg\n",
            "INFO:root:Searching for nvidia-cuda-cupti-cu12==12.4.127; platform_system == \"Linux\" and platform_machine == \"x86_64\"\n",
            "INFO:root:Reading https://pypi.org/simple/nvidia-cuda-cupti-cu12/\n",
            "INFO:root:Downloading https://files.pythonhosted.org/packages/67/42/f4f60238e8194a3106d06a058d494b18e006c10bb2b915655bd9f6ea4cb1/nvidia_cuda_cupti_cu12-12.4.127-py3-none-manylinux2014_x86_64.whl#sha256=9dec60f5ac126f7bb551c055072b69d85392b13311fcc1bcda2202d172df30fb\n",
            "INFO:root:Best match: nvidia-cuda-cupti-cu12 12.4.127\n",
            "INFO:root:Processing nvidia_cuda_cupti_cu12-12.4.127-py3-none-manylinux2014_x86_64.whl\n",
            "INFO:root:Installing nvidia_cuda_cupti_cu12-12.4.127-py3-none-manylinux2014_x86_64.whl to /usr/local/lib/python3.11/dist-packages\n",
            "INFO:root:Adding nvidia-cuda-cupti-cu12 12.4.127 to easy-install.pth file\n",
            "INFO:root:detected new path './nvidia_cudnn_cu12-9.1.0.70-py3.11-linux-x86_64.egg'\n",
            "INFO:root:\n",
            "Installed /usr/local/lib/python3.11/dist-packages/nvidia_cuda_cupti_cu12-12.4.127-py3.11-linux-x86_64.egg\n",
            "INFO:root:Searching for nvidia-cuda-runtime-cu12==12.4.127; platform_system == \"Linux\" and platform_machine == \"x86_64\"\n",
            "INFO:root:Reading https://pypi.org/simple/nvidia-cuda-runtime-cu12/\n",
            "INFO:root:Downloading https://files.pythonhosted.org/packages/ea/27/1795d86fe88ef397885f2e580ac37628ed058a92ed2c39dc8eac3adf0619/nvidia_cuda_runtime_cu12-12.4.127-py3-none-manylinux2014_x86_64.whl#sha256=64403288fa2136ee8e467cdc9c9427e0434110899d07c779f25b5c068934faa5\n",
            "INFO:root:Best match: nvidia-cuda-runtime-cu12 12.4.127\n",
            "INFO:root:Processing nvidia_cuda_runtime_cu12-12.4.127-py3-none-manylinux2014_x86_64.whl\n",
            "INFO:root:Installing nvidia_cuda_runtime_cu12-12.4.127-py3-none-manylinux2014_x86_64.whl to /usr/local/lib/python3.11/dist-packages\n",
            "INFO:root:Adding nvidia-cuda-runtime-cu12 12.4.127 to easy-install.pth file\n",
            "INFO:root:detected new path './nvidia_cuda_cupti_cu12-12.4.127-py3.11-linux-x86_64.egg'\n",
            "INFO:root:\n",
            "Installed /usr/local/lib/python3.11/dist-packages/nvidia_cuda_runtime_cu12-12.4.127-py3.11-linux-x86_64.egg\n",
            "INFO:root:Searching for nvidia-cuda-nvrtc-cu12==12.4.127; platform_system == \"Linux\" and platform_machine == \"x86_64\"\n",
            "INFO:root:Reading https://pypi.org/simple/nvidia-cuda-nvrtc-cu12/\n",
            "INFO:root:Downloading https://files.pythonhosted.org/packages/2c/14/91ae57cd4db3f9ef7aa99f4019cfa8d54cb4caa7e00975df6467e9725a9f/nvidia_cuda_nvrtc_cu12-12.4.127-py3-none-manylinux2014_x86_64.whl#sha256=a178759ebb095827bd30ef56598ec182b85547f1508941a3d560eb7ea1fbf338\n",
            "INFO:root:Best match: nvidia-cuda-nvrtc-cu12 12.4.127\n",
            "INFO:root:Processing nvidia_cuda_nvrtc_cu12-12.4.127-py3-none-manylinux2014_x86_64.whl\n",
            "INFO:root:Installing nvidia_cuda_nvrtc_cu12-12.4.127-py3-none-manylinux2014_x86_64.whl to /usr/local/lib/python3.11/dist-packages\n",
            "INFO:root:Adding nvidia-cuda-nvrtc-cu12 12.4.127 to easy-install.pth file\n",
            "INFO:root:detected new path './nvidia_cuda_runtime_cu12-12.4.127-py3.11-linux-x86_64.egg'\n",
            "INFO:root:\n",
            "Installed /usr/local/lib/python3.11/dist-packages/nvidia_cuda_nvrtc_cu12-12.4.127-py3.11-linux-x86_64.egg\n",
            "INFO:root:Searching for tqdm==4.67.1\n",
            "INFO:root:Best match: tqdm 4.67.1\n",
            "INFO:root:Adding tqdm 4.67.1 to easy-install.pth file\n",
            "INFO:root:detected new path './nvidia_cuda_nvrtc_cu12-12.4.127-py3.11-linux-x86_64.egg'\n",
            "INFO:root:Installing tqdm script to /usr/local/bin\n",
            "INFO:root:\n",
            "Using /usr/local/lib/python3.11/dist-packages\n",
            "INFO:root:Searching for torch==2.6.0+cu124\n",
            "INFO:root:Best match: torch 2.6.0+cu124\n",
            "INFO:root:Adding torch 2.6.0+cu124 to easy-install.pth file\n",
            "INFO:root:Installing torchfrtrace script to /usr/local/bin\n",
            "INFO:root:Installing torchrun script to /usr/local/bin\n",
            "INFO:root:\n",
            "Using /usr/local/lib/python3.11/dist-packages\n",
            "INFO:root:Searching for scipy==1.14.1\n",
            "INFO:root:Best match: scipy 1.14.1\n",
            "INFO:root:Adding scipy 1.14.1 to easy-install.pth file\n",
            "INFO:root:\n",
            "Using /usr/local/lib/python3.11/dist-packages\n",
            "INFO:root:Searching for scikit-learn==1.6.1\n",
            "INFO:root:Best match: scikit-learn 1.6.1\n",
            "INFO:root:Adding scikit-learn 1.6.1 to easy-install.pth file\n",
            "INFO:root:\n",
            "Using /usr/local/lib/python3.11/dist-packages\n",
            "INFO:root:Searching for seaborn==0.13.2\n",
            "INFO:root:Best match: seaborn 0.13.2\n",
            "INFO:root:Adding seaborn 0.13.2 to easy-install.pth file\n",
            "INFO:root:\n",
            "Using /usr/local/lib/python3.11/dist-packages\n",
            "INFO:root:Searching for PyYAML==6.0.2\n",
            "INFO:root:Best match: PyYAML 6.0.2\n",
            "INFO:root:Adding PyYAML 6.0.2 to easy-install.pth file\n",
            "INFO:root:\n",
            "Using /usr/local/lib/python3.11/dist-packages\n",
            "INFO:root:Searching for pandas==2.2.2\n",
            "INFO:root:Best match: pandas 2.2.2\n",
            "INFO:root:Adding pandas 2.2.2 to easy-install.pth file\n",
            "INFO:root:\n",
            "Using /usr/local/lib/python3.11/dist-packages\n",
            "INFO:root:Searching for numpy==2.0.2\n",
            "INFO:root:Best match: numpy 2.0.2\n",
            "INFO:root:Adding numpy 2.0.2 to easy-install.pth file\n",
            "INFO:root:Installing f2py script to /usr/local/bin\n",
            "INFO:root:Installing numpy-config script to /usr/local/bin\n",
            "INFO:root:\n",
            "Using /usr/local/lib/python3.11/dist-packages\n",
            "INFO:root:Searching for matplotlib==3.10.0\n",
            "INFO:root:Best match: matplotlib 3.10.0\n",
            "INFO:root:Adding matplotlib 3.10.0 to easy-install.pth file\n",
            "INFO:root:\n",
            "Using /usr/local/lib/python3.11/dist-packages\n",
            "INFO:root:Searching for tabulate==0.9.0\n",
            "INFO:root:Best match: tabulate 0.9.0\n",
            "INFO:root:Adding tabulate 0.9.0 to easy-install.pth file\n",
            "INFO:root:Installing tabulate script to /usr/local/bin\n",
            "INFO:root:\n",
            "Using /usr/local/lib/python3.11/dist-packages\n",
            "INFO:root:Searching for statsmodels==0.14.4\n",
            "INFO:root:Best match: statsmodels 0.14.4\n",
            "INFO:root:Adding statsmodels 0.14.4 to easy-install.pth file\n",
            "INFO:root:\n",
            "Using /usr/local/lib/python3.11/dist-packages\n",
            "INFO:root:Searching for sympy==1.13.1\n",
            "INFO:root:Best match: sympy 1.13.1\n",
            "INFO:root:Adding sympy 1.13.1 to easy-install.pth file\n",
            "INFO:root:Installing isympy script to /usr/local/bin\n",
            "INFO:root:\n",
            "Using /usr/local/lib/python3.11/dist-packages\n",
            "INFO:root:Searching for triton==3.2.0\n",
            "INFO:root:Best match: triton 3.2.0\n",
            "INFO:root:Adding triton 3.2.0 to easy-install.pth file\n",
            "INFO:root:Installing proton script to /usr/local/bin\n",
            "INFO:root:Installing proton-viewer script to /usr/local/bin\n",
            "INFO:root:\n",
            "Using /usr/local/lib/python3.11/dist-packages\n",
            "INFO:root:Searching for nvidia-nvtx-cu12==12.4.127\n",
            "INFO:root:Best match: nvidia-nvtx-cu12 12.4.127\n",
            "INFO:root:Adding nvidia-nvtx-cu12 12.4.127 to easy-install.pth file\n",
            "INFO:root:\n",
            "Using /usr/local/lib/python3.11/dist-packages\n",
            "INFO:root:Searching for nvidia-nccl-cu12==2.21.5\n",
            "INFO:root:Best match: nvidia-nccl-cu12 2.21.5\n",
            "INFO:root:Adding nvidia-nccl-cu12 2.21.5 to easy-install.pth file\n",
            "INFO:root:\n",
            "Using /usr/local/lib/python3.11/dist-packages\n",
            "INFO:root:Searching for nvidia-cusparselt-cu12==0.6.2\n",
            "INFO:root:Best match: nvidia-cusparselt-cu12 0.6.2\n",
            "INFO:root:Adding nvidia-cusparselt-cu12 0.6.2 to easy-install.pth file\n",
            "INFO:root:\n",
            "Using /usr/local/lib/python3.11/dist-packages\n",
            "INFO:root:Searching for fsspec==2025.3.0\n",
            "INFO:root:Best match: fsspec 2025.3.0\n",
            "INFO:root:Adding fsspec 2025.3.0 to easy-install.pth file\n",
            "INFO:root:\n",
            "Using /usr/local/lib/python3.11/dist-packages\n",
            "INFO:root:Searching for jinja2==3.1.6\n",
            "INFO:root:Best match: jinja2 3.1.6\n",
            "INFO:root:Adding jinja2 3.1.6 to easy-install.pth file\n",
            "INFO:root:\n",
            "Using /usr/local/lib/python3.11/dist-packages\n",
            "INFO:root:Searching for networkx==3.4.2\n",
            "INFO:root:Best match: networkx 3.4.2\n",
            "INFO:root:Adding networkx 3.4.2 to easy-install.pth file\n",
            "INFO:root:\n",
            "Using /usr/local/lib/python3.11/dist-packages\n",
            "INFO:root:Searching for typing-extensions==4.12.2\n",
            "INFO:root:Best match: typing-extensions 4.12.2\n",
            "INFO:root:Adding typing-extensions 4.12.2 to easy-install.pth file\n",
            "INFO:root:\n",
            "Using /usr/local/lib/python3.11/dist-packages/setuptools/_vendor\n",
            "INFO:root:Searching for filelock==3.18.0\n",
            "INFO:root:Best match: filelock 3.18.0\n",
            "INFO:root:Adding filelock 3.18.0 to easy-install.pth file\n",
            "INFO:root:detected new path './setuptools/_vendor'\n",
            "INFO:root:\n",
            "Using /usr/local/lib/python3.11/dist-packages\n",
            "INFO:root:Searching for threadpoolctl==3.6.0\n",
            "INFO:root:Best match: threadpoolctl 3.6.0\n",
            "INFO:root:Adding threadpoolctl 3.6.0 to easy-install.pth file\n",
            "INFO:root:\n",
            "Using /usr/local/lib/python3.11/dist-packages\n",
            "INFO:root:Searching for joblib==1.4.2\n",
            "INFO:root:Best match: joblib 1.4.2\n",
            "INFO:root:Adding joblib 1.4.2 to easy-install.pth file\n",
            "INFO:root:\n",
            "Using /usr/local/lib/python3.11/dist-packages\n",
            "INFO:root:Searching for tzdata==2025.1\n",
            "INFO:root:Best match: tzdata 2025.1\n",
            "INFO:root:Adding tzdata 2025.1 to easy-install.pth file\n",
            "INFO:root:\n",
            "Using /usr/local/lib/python3.11/dist-packages\n",
            "INFO:root:Searching for pytz==2025.1\n",
            "INFO:root:Best match: pytz 2025.1\n",
            "INFO:root:Adding pytz 2025.1 to easy-install.pth file\n",
            "INFO:root:\n",
            "Using /usr/local/lib/python3.11/dist-packages\n",
            "INFO:root:Searching for python-dateutil==2.8.2\n",
            "INFO:root:Best match: python-dateutil 2.8.2\n",
            "INFO:root:Adding python-dateutil 2.8.2 to easy-install.pth file\n",
            "INFO:root:\n",
            "Using /usr/local/lib/python3.11/dist-packages\n",
            "INFO:root:Searching for pyparsing==3.2.1\n",
            "INFO:root:Best match: pyparsing 3.2.1\n",
            "INFO:root:Adding pyparsing 3.2.1 to easy-install.pth file\n",
            "INFO:root:\n",
            "Using /usr/local/lib/python3.11/dist-packages\n",
            "INFO:root:Searching for pillow==11.1.0\n",
            "INFO:root:Best match: pillow 11.1.0\n",
            "INFO:root:Adding pillow 11.1.0 to easy-install.pth file\n",
            "INFO:root:\n",
            "Using /usr/local/lib/python3.11/dist-packages\n",
            "INFO:root:Searching for packaging==24.2\n",
            "INFO:root:Best match: packaging 24.2\n",
            "INFO:root:Adding packaging 24.2 to easy-install.pth file\n",
            "INFO:root:\n",
            "Using /usr/local/lib/python3.11/dist-packages\n",
            "INFO:root:Searching for kiwisolver==1.4.8\n",
            "INFO:root:Best match: kiwisolver 1.4.8\n",
            "INFO:root:Adding kiwisolver 1.4.8 to easy-install.pth file\n",
            "INFO:root:\n",
            "Using /usr/local/lib/python3.11/dist-packages\n",
            "INFO:root:Searching for fonttools==4.56.0\n",
            "INFO:root:Best match: fonttools 4.56.0\n",
            "INFO:root:Adding fonttools 4.56.0 to easy-install.pth file\n",
            "INFO:root:Installing fonttools script to /usr/local/bin\n",
            "INFO:root:Installing pyftmerge script to /usr/local/bin\n",
            "INFO:root:Installing pyftsubset script to /usr/local/bin\n",
            "INFO:root:Installing ttx script to /usr/local/bin\n",
            "INFO:root:\n",
            "Using /usr/local/lib/python3.11/dist-packages\n",
            "INFO:root:Searching for cycler==0.12.1\n",
            "INFO:root:Best match: cycler 0.12.1\n",
            "INFO:root:Adding cycler 0.12.1 to easy-install.pth file\n",
            "INFO:root:\n",
            "Using /usr/local/lib/python3.11/dist-packages\n",
            "INFO:root:Searching for contourpy==1.3.1\n",
            "INFO:root:Best match: contourpy 1.3.1\n",
            "INFO:root:Adding contourpy 1.3.1 to easy-install.pth file\n",
            "INFO:root:\n",
            "Using /usr/local/lib/python3.11/dist-packages\n",
            "INFO:root:Searching for patsy==1.0.1\n",
            "INFO:root:Best match: patsy 1.0.1\n",
            "INFO:root:Adding patsy 1.0.1 to easy-install.pth file\n",
            "INFO:root:\n",
            "Using /usr/local/lib/python3.11/dist-packages\n",
            "INFO:root:Searching for xarray==2025.1.2\n",
            "INFO:root:Best match: xarray 2025.1.2\n",
            "INFO:root:Adding xarray 2025.1.2 to easy-install.pth file\n",
            "INFO:root:\n",
            "Using /usr/local/lib/python3.11/dist-packages\n",
            "INFO:root:Searching for mpmath==1.3.0\n",
            "INFO:root:Best match: mpmath 1.3.0\n",
            "INFO:root:Adding mpmath 1.3.0 to easy-install.pth file\n",
            "INFO:root:\n",
            "Using /usr/local/lib/python3.11/dist-packages\n",
            "INFO:root:Searching for MarkupSafe==3.0.2\n",
            "INFO:root:Best match: MarkupSafe 3.0.2\n",
            "INFO:root:Adding MarkupSafe 3.0.2 to easy-install.pth file\n",
            "INFO:root:\n",
            "Using /usr/local/lib/python3.11/dist-packages\n",
            "INFO:root:Searching for six==1.17.0\n",
            "INFO:root:Best match: six 1.17.0\n",
            "INFO:root:Adding six 1.17.0 to easy-install.pth file\n",
            "INFO:root:\n",
            "Using /usr/local/lib/python3.11/dist-packages\n",
            "INFO:root:Finished processing dependencies for obp==0.5.5\n"
          ]
        }
      ],
      "source": [
        "!git clone https://github.com/st-tech/zr-obp\n",
        "!python zr-obp/setup.py install"
      ]
    },
    {
      "cell_type": "code",
      "source": [
        "!unzip open_bandit_dataset.zip"
      ],
      "metadata": {
        "colab": {
          "base_uri": "https://localhost:8080/"
        },
        "id": "EpCiNCI-SBZJ",
        "outputId": "fe8e3cf6-5c3a-4dad-bdc2-cd68f55fbc35"
      },
      "execution_count": 1,
      "outputs": [
        {
          "output_type": "stream",
          "name": "stdout",
          "text": [
            "Archive:  open_bandit_dataset.zip\n",
            "   creating: open_bandit_dataset/\n",
            "  inflating: __MACOSX/._open_bandit_dataset  \n",
            "  inflating: open_bandit_dataset/README  \n",
            "  inflating: __MACOSX/open_bandit_dataset/._README  \n",
            "   creating: open_bandit_dataset/bts/\n",
            "  inflating: __MACOSX/open_bandit_dataset/._bts  \n",
            "  inflating: open_bandit_dataset/VERSION  \n",
            "  inflating: __MACOSX/open_bandit_dataset/._VERSION  \n",
            "   creating: open_bandit_dataset/random/\n",
            "  inflating: __MACOSX/open_bandit_dataset/._random  \n",
            "   creating: open_bandit_dataset/bts/all/\n",
            "  inflating: __MACOSX/open_bandit_dataset/bts/._all  \n",
            "   creating: open_bandit_dataset/bts/men/\n",
            "  inflating: __MACOSX/open_bandit_dataset/bts/._men  \n",
            "   creating: open_bandit_dataset/bts/women/\n",
            "  inflating: __MACOSX/open_bandit_dataset/bts/._women  \n",
            "   creating: open_bandit_dataset/random/all/\n",
            "  inflating: __MACOSX/open_bandit_dataset/random/._all  \n",
            "   creating: open_bandit_dataset/random/men/\n",
            "  inflating: __MACOSX/open_bandit_dataset/random/._men  \n",
            "   creating: open_bandit_dataset/random/women/\n",
            "  inflating: __MACOSX/open_bandit_dataset/random/._women  \n",
            "  inflating: open_bandit_dataset/bts/all/item_context.csv  \n",
            "  inflating: __MACOSX/open_bandit_dataset/bts/all/._item_context.csv  \n",
            "  inflating: open_bandit_dataset/bts/all/all.csv  \n",
            "  inflating: __MACOSX/open_bandit_dataset/bts/all/._all.csv  \n",
            "  inflating: open_bandit_dataset/bts/men/item_context.csv  \n",
            "  inflating: __MACOSX/open_bandit_dataset/bts/men/._item_context.csv  \n",
            "  inflating: open_bandit_dataset/bts/men/men.csv  \n",
            "  inflating: __MACOSX/open_bandit_dataset/bts/men/._men.csv  \n",
            "  inflating: open_bandit_dataset/bts/women/item_context.csv  \n",
            "  inflating: __MACOSX/open_bandit_dataset/bts/women/._item_context.csv  \n",
            "  inflating: open_bandit_dataset/bts/women/women.csv  \n",
            "  inflating: __MACOSX/open_bandit_dataset/bts/women/._women.csv  \n",
            "  inflating: open_bandit_dataset/random/all/item_context.csv  \n",
            "  inflating: __MACOSX/open_bandit_dataset/random/all/._item_context.csv  \n",
            "  inflating: open_bandit_dataset/random/all/all.csv  \n",
            "  inflating: __MACOSX/open_bandit_dataset/random/all/._all.csv  \n",
            "  inflating: open_bandit_dataset/random/men/item_context.csv  \n",
            "  inflating: __MACOSX/open_bandit_dataset/random/men/._item_context.csv  \n",
            "  inflating: open_bandit_dataset/random/men/men.csv  \n",
            "  inflating: __MACOSX/open_bandit_dataset/random/men/._men.csv  \n",
            "  inflating: open_bandit_dataset/random/women/item_context.csv  \n",
            "  inflating: __MACOSX/open_bandit_dataset/random/women/._item_context.csv  \n",
            "  inflating: open_bandit_dataset/random/women/women.csv  \n",
            "  inflating: __MACOSX/open_bandit_dataset/random/women/._women.csv  \n"
          ]
        }
      ]
    },
    {
      "cell_type": "code",
      "source": [
        "%cd zr-obp"
      ],
      "metadata": {
        "colab": {
          "base_uri": "https://localhost:8080/"
        },
        "id": "8hxSogcIUojq",
        "outputId": "f2abf373-b826-49a6-9fbe-a0c08b979c14"
      },
      "execution_count": 3,
      "outputs": [
        {
          "output_type": "stream",
          "name": "stdout",
          "text": [
            "/content/zr-obp\n"
          ]
        }
      ]
    },
    {
      "cell_type": "code",
      "source": [
        "ls"
      ],
      "metadata": {
        "colab": {
          "base_uri": "https://localhost:8080/"
        },
        "id": "K9Sm-ve8U4PJ",
        "outputId": "3be74470-3bc5-490e-ebc3-4085bdbb4b11"
      },
      "execution_count": 4,
      "outputs": [
        {
          "output_type": "stream",
          "name": "stdout",
          "text": [
            "\u001b[0m\u001b[01;34mbenchmark\u001b[0m/       \u001b[01;34mexamples\u001b[0m/  MANIFEST.in  poetry.lock     README.md  \u001b[01;34mslides\u001b[0m/\n",
            "CONTRIBUTING.md  \u001b[01;34mimages\u001b[0m/    \u001b[01;34mobd\u001b[0m/         pyproject.toml  setup.cfg  \u001b[01;34mtests\u001b[0m/\n",
            "\u001b[01;34mdocs\u001b[0m/            LICENSE    \u001b[01;34mobp\u001b[0m/         README_JN.md    setup.py\n"
          ]
        }
      ]
    },
    {
      "cell_type": "code",
      "source": [
        "from obp.dataset import OpenBanditDataset\n",
        "from obp.policy import LinUCB"
      ],
      "metadata": {
        "id": "7sgEvvzeSgPc"
      },
      "execution_count": 5,
      "outputs": []
    },
    {
      "cell_type": "code",
      "source": [
        "from obp.dataset import OpenBanditDataset\n",
        "import pandas as pd\n",
        "from pandas import DataFrame\n",
        "import numpy as np\n",
        "from sklearn.preprocessing import LabelEncoder\n",
        "from sklearn.preprocessing import OneHotEncoder\n",
        "from dataclasses import dataclass\n",
        "from obp.types import BanditFeedback\n",
        "from typing import Union\n",
        "from typing import Tuple\n",
        "from sklearn.utils import check_random_state\n",
        "from sklearn.utils import check_scalar\n",
        "\n",
        "@dataclass\n",
        "class ModifiedOpenBanditDataset(OpenBanditDataset):\n",
        "    user_item_affinity_feat: bool = False\n",
        "    user_feat: bool = True\n",
        "    @property\n",
        "    def n_actions(self) -> int:\n",
        "        \"\"\"Number of actions.\"\"\"\n",
        "        return int(self.action.max() + 1)\n",
        "\n",
        "    def pre_process(self) -> None:\n",
        "        \"\"\"Preprocess raw open bandit dataset.\"\"\"\n",
        "        if self.user_feat and self.user_item_affinity_feat:\n",
        "            user_cols = self.data.columns.str.contains(\"user_feature\")\n",
        "            user_context = pd.get_dummies(\n",
        "                self.data.loc[:, user_cols], drop_first=True\n",
        "            ).values\n",
        "            user_item_cols = self.data.columns.str.contains(\"user-item_affinity\")\n",
        "            user_item_context = self.data.loc[:,user_item_cols].values\n",
        "            #user_item_context = np.column_stack((user_item_context, np.ones(user_item_context.shape[0])))\n",
        "            self.context = np.c_[user_context, user_item_context]\n",
        "            #self.context = np.einsum('nk,nl->nkl', user_context, user_item_context).reshape(user_context.shape[0],-1)\n",
        "        elif self.user_feat:\n",
        "            user_cols = self.data.columns.str.contains(\"user_feature\")\n",
        "            self.context = pd.get_dummies(\n",
        "                self.data.loc[:, user_cols], drop_first=True\n",
        "            ).values\n",
        "        elif self.user_item_affinity_feat:\n",
        "            user_item_cols = self.data.columns.str.contains(\"user-item_affinity\")\n",
        "            self.context = self.data.loc[:,user_item_cols].values\n",
        "        else:\n",
        "            raise ValueError(\"one of the `user_item_affinity_feat` or `user_feat` must be True.\")\n",
        "        item_feature_0 = self.item_context[\"item_feature_0\"].values\n",
        "        item_feature_cat = self.item_context.drop(\n",
        "            columns=[\"item_id\", \"item_feature_0\"], axis=1\n",
        "        ).apply(LabelEncoder().fit_transform)\n",
        "        item_feature_cat = OneHotEncoder(sparse_output=False, drop=\"first\").fit_transform(item_feature_cat)\n",
        "        item_feat = np.c_[item_feature_cat, item_feature_0]\n",
        "        self.action_context = np.zeros(((self.position.max()+1)* self.n_actions, item_feat.shape[1]+1))\n",
        "        for i in range(self.position.max()+1):\n",
        "            self.action_context[i*self.n_actions:(i+1)*self.n_actions,1:] = item_feat\n",
        "            self.action_context[i*self.n_actions:(i+1)*self.n_actions,0] = np.ones(self.n_actions)*i\n",
        "        # self.action_context = item_feat\n",
        "\n",
        "        pos = DataFrame(self.position)\n",
        "        self.action_context = (\n",
        "            self.item_context.drop(columns=[\"item_id\", \"item_feature_0\"], axis=1)\n",
        "            .apply(LabelEncoder().fit_transform)\n",
        "            .values\n",
        "        )\n",
        "        self.action_context = self.action_context[self.action]\n",
        "        self.action_context = np.c_[self.action_context, pos]\n",
        "\n",
        "        self.action = self.position * self.n_actions + self.action\n",
        "        self.position = np.zeros_like(self.position)\n",
        "        self.pscore /= 3\n",
        "    def obtain_batch_bandit_feedback(\n",
        "        self, test_size: float = 0.3, is_timeseries_split: bool = False\n",
        "    ) -> Union[BanditFeedback, Tuple[BanditFeedback, BanditFeedback]]:\n",
        "        \"\"\"Obtain batch logged bandit data.\n",
        "\n",
        "        Parameters\n",
        "        -----------\n",
        "        test_size: float, default=0.3\n",
        "            Proportion of the dataset included in the test split.\n",
        "            If float, should be between 0.0 and 1.0.\n",
        "            This argument matters only when `is_timeseries_split=True` (the out-sample case).\n",
        "\n",
        "        is_timeseries_split: bool, default=False\n",
        "            If true, split the original logged bandit data into train and test sets based on time series.\n",
        "\n",
        "        Returns\n",
        "        --------\n",
        "        bandit_feedback: BanditFeedback\n",
        "            A dictionary containing batch logged bandit data collected by the behavior policy.\n",
        "            The keys of the dictionary are as follows.\n",
        "            - n_rounds: number of rounds, data size of the logged bandit data\n",
        "            - n_actions: number of actions (:math:`|\\mathcal{A}|`)\n",
        "            - action: action variables sampled by the behavior policy\n",
        "            - position: positions where actions are recommended, there are three positions in the ZOZOTOWN rec interface\n",
        "            - reward: binary reward variables, click indicators\n",
        "            - pscore: action choice probabilities by the behavior policy, propensity scores\n",
        "            - context: context vectors such as user-related features and user-item affinity scores\n",
        "            - action_context: item-related context vectors\n",
        "\n",
        "        \"\"\"\n",
        "        if not isinstance(is_timeseries_split, bool):\n",
        "            raise TypeError(\n",
        "                f\"`is_timeseries_split` must be a bool, but {type(is_timeseries_split)} is given\"\n",
        "            )\n",
        "\n",
        "        if is_timeseries_split:\n",
        "            check_scalar(\n",
        "                test_size,\n",
        "                name=\"target_size\",\n",
        "                target_type=(float),\n",
        "                min_val=0.0,\n",
        "                max_val=1.0,\n",
        "            )\n",
        "            n_rounds_train = np.int32(self.n_rounds * (1.0 - test_size))\n",
        "            bandit_feedback_train = dict(\n",
        "                n_rounds=n_rounds_train,\n",
        "                n_actions=self.n_actions,\n",
        "                action=self.action[:n_rounds_train],\n",
        "                position=self.position[:n_rounds_train],\n",
        "                reward=self.reward[:n_rounds_train],\n",
        "                pscore=self.pscore[:n_rounds_train],\n",
        "                context=self.context[:n_rounds_train],\n",
        "                action_context=self.action_context[:n_rounds_train],\n",
        "            )\n",
        "            bandit_feedback_test = dict(\n",
        "                n_rounds=(self.n_rounds - n_rounds_train),\n",
        "                n_actions=self.n_actions,\n",
        "                action=self.action[n_rounds_train:],\n",
        "                position=self.position[n_rounds_train:],\n",
        "                reward=self.reward[n_rounds_train:],\n",
        "                pscore=self.pscore[n_rounds_train:],\n",
        "                context=self.context[n_rounds_train:],\n",
        "                action_context=self.action_context[n_rounds_train:],\n",
        "            )\n",
        "            return bandit_feedback_train, bandit_feedback_test\n",
        "        else:\n",
        "            return dict(\n",
        "                n_rounds=self.n_rounds,\n",
        "                n_actions=self.n_actions,\n",
        "                action=self.action,\n",
        "                position=self.position,\n",
        "                reward=self.reward,\n",
        "                pscore=self.pscore,\n",
        "                context=self.context,\n",
        "                action_context=self.action_context,\n",
        "            )\n",
        "\n"
      ],
      "metadata": {
        "id": "964Nr4plwDdK"
      },
      "execution_count": 55,
      "outputs": []
    },
    {
      "cell_type": "code",
      "source": [
        "data = ModifiedOpenBanditDataset(behavior_policy='random', campaign='all', data_path='/content/open_bandit_dataset')"
      ],
      "metadata": {
        "id": "xx_0VYA9OtaW"
      },
      "execution_count": 56,
      "outputs": []
    },
    {
      "cell_type": "code",
      "source": [
        "bandit_feedback_train, bandit_feedback_test = data.obtain_batch_bandit_feedback(test_size=0.3, is_timeseries_split=True)\n",
        "\n",
        "print(bandit_feedback_train[\"n_rounds\"])\n",
        "print(bandit_feedback_test[\"n_rounds\"])"
      ],
      "metadata": {
        "id": "1csoqKW6XRhc",
        "colab": {
          "base_uri": "https://localhost:8080/"
        },
        "outputId": "5cb8b559-253d-4e73-beae-b6592db72ca3"
      },
      "execution_count": 57,
      "outputs": [
        {
          "output_type": "stream",
          "name": "stdout",
          "text": [
            "962028\n",
            "412299\n"
          ]
        }
      ]
    },
    {
      "cell_type": "code",
      "source": [
        "import numpy as np\n",
        "from tqdm import tqdm\n",
        "import math\n",
        "from scipy.special import softmax\n",
        "\n",
        "class LinUCB:\n",
        "    def __init__(self, num_arms, user_features, item_features,\n",
        "                 alpha):\n",
        "\n",
        "        self.num_arms = num_arms\n",
        "        self.user_features = user_features\n",
        "        self.item_features = item_features\n",
        "\n",
        "\n",
        "        self.d_u = user_features.shape[1]\n",
        "        self.d_i = item_features.shape[1]\n",
        "        self.d = self.d_u + self.d_i\n",
        "\n",
        "        self.alpha = alpha\n",
        "\n",
        "        # For each arm D[a], b[a]\n",
        "        self.D = [[] for _ in range(num_arms)]\n",
        "        self.b = [[] for _ in range(num_arms)]\n",
        "\n",
        "        self.A = [None]*num_arms\n",
        "        self.A_inv = [None]*num_arms\n",
        "        self.rhs = [None]*num_arms\n",
        "\n",
        "        for a in range(num_arms):\n",
        "            self.A[a] = np.eye(self.d)\n",
        "            self.A_inv[a] = np.linalg.inv(self.A[a])\n",
        "            self.rhs[a] = np.zeros(self.d)\n",
        "\n",
        "    def _concat_features(self, user_context, a):\n",
        "        x_u = user_context                   # сразу переданный контекст пользователя\n",
        "        x_a = self.item_features[a]\n",
        "        return np.concatenate([x_u, x_a])\n",
        "\n",
        "\n",
        "    def append_interaction(self, user_context, a, r):\n",
        "        x_ua = self._concat_features(user_context, a)\n",
        "        self.D[a].append(x_ua)\n",
        "        self.b[a].append(r) #the corresponding m click/no-click user feedback\n",
        "\n",
        "\n",
        "    def batch_update(self, arms=None):\n",
        "        if arms is None:\n",
        "            arms = range(self.num_arms)\n",
        "\n",
        "        for a in arms:\n",
        "            if len(self.D[a]) == 0:\n",
        "                continue\n",
        "\n",
        "            D_a = np.array(self.D[a])\n",
        "            b_a = np.array(self.b[a])\n",
        "\n",
        "\n",
        "            self.A[a] += D_a.T @ D_a\n",
        "            self.A_inv[a] = np.linalg.inv(self.A[a])\n",
        "            self.rhs[a] += D_a.T @ b_a\n",
        "\n",
        "    def train(self, train_data, batch_size):\n",
        "        num_batches = math.ceil(len(train_data)/batch_size)\n",
        "        idx = 0\n",
        "        for _ in tqdm(range(num_batches), desc=\"Training\"):\n",
        "            batch = train_data[idx : idx+batch_size]\n",
        "            idx += batch_size\n",
        "\n",
        "            # 1) Append interactions\n",
        "            self.D = [[] for _ in range(num_arms)]\n",
        "            self.b = [[] for _ in range(num_arms)]\n",
        "            for (u, a, r) in batch:\n",
        "                self.append_interaction(u, a, r)\n",
        "\n",
        "            self.batch_update(arms=None)\n"
      ],
      "metadata": {
        "id": "wfAiOHPpswTX"
      },
      "execution_count": 9,
      "outputs": []
    },
    {
      "cell_type": "code",
      "source": [
        "from scipy.special import softmax\n",
        "\n",
        "class OfflineUCB:\n",
        "    def __init__(self, n_actions, actions, rewards, n_rounds):\n",
        "        self.n_actions = n_actions\n",
        "        self.n_rounds = n_rounds\n",
        "        self.actions = np.array(actions, dtype=int).flatten()\n",
        "        self.rewards = np.array(rewards, dtype=float).flatten()\n",
        "\n",
        "        # Проверяем, что размеры совпадают\n",
        "        assert self.actions.shape == self.rewards.shape, \"actions и rewards должны иметь одинаковую длину\"\n",
        "\n",
        "    def compute_ucb(self):\n",
        "        if self.actions.ndim != 1 or self.rewards.ndim != 1:\n",
        "            raise ValueError(\"actions и rewards должны быть одномерными массивами\")\n",
        "\n",
        "        # Подсчет количества выборов каждого действия\n",
        "        counts = np.bincount(self.actions, minlength=self.n_actions).astype(float)\n",
        "\n",
        "        # Подсчет суммы наград для каждого действия\n",
        "        if len(self.rewards) == len(self.actions):\n",
        "            reward_sums = np.bincount(self.actions, weights=self.rewards, minlength=self.n_actions).astype(float)\n",
        "        else:\n",
        "            raise ValueError(\"Ошибка: длины actions и rewards не совпадают\")\n",
        "\n",
        "        # Вычисление средних наград (избегаем деления на 0)\n",
        "        values = reward_sums / (counts)\n",
        "\n",
        "        # Вычисление UCB\n",
        "        ucb_values = values + np.sqrt(2 * np.log(self.n_rounds) / (counts))\n",
        "        return ucb_values\n",
        "\n",
        "    def select_best_action(self, n_users):\n",
        "        ucb_values = self.compute_ucb()\n",
        "        ucb_values = softmax(ucb_values)\n",
        "        ucb_score = np.tile(ucb_values, (n_users, 1))\n",
        "        return np.expand_dims(ucb_score, axis=-1)\n"
      ],
      "metadata": {
        "id": "MjFG82RlclbD"
      },
      "execution_count": 10,
      "outputs": []
    },
    {
      "cell_type": "code",
      "source": [
        "num_arms = bandit_feedback_train['n_actions']\n",
        "n_rounds = bandit_feedback_train['n_rounds']\n",
        "\n",
        "train_contexts = bandit_feedback_train['context']\n",
        "train_actions = bandit_feedback_train['action']\n",
        "train_rewards = bandit_feedback_train['reward']\n",
        "n_users = train_contexts.shape[0]\n",
        "\n",
        "#user_features = bandit_feedback_train['context']\n",
        "item_features = bandit_feedback_train['action_context'][:num_arms]\n",
        "\n",
        "alpha = -10\n",
        "\n",
        "linucb_model = LinUCB(\n",
        "    num_arms=num_arms,\n",
        "    user_features=train_contexts,\n",
        "    item_features=item_features,\n",
        "    alpha=alpha\n",
        ")\n",
        "\n",
        "ucb_model = OfflineUCB(\n",
        "    n_actions=num_arms,\n",
        "    actions = train_actions,\n",
        "    rewards = train_rewards,\n",
        "    n_rounds = n_rounds\n",
        ")\n"
      ],
      "metadata": {
        "id": "LCHM9sJPzwB-"
      },
      "execution_count": 11,
      "outputs": []
    },
    {
      "cell_type": "code",
      "source": [
        "train_data = [\n",
        "    (train_contexts[i], train_actions[i], train_rewards[i])\n",
        "    for i in range(len(train_rewards))\n",
        "]\n",
        "\n"
      ],
      "metadata": {
        "id": "pmprMQOF0jRM"
      },
      "execution_count": 12,
      "outputs": []
    },
    {
      "cell_type": "code",
      "source": [
        "import math\n",
        "batch_size = 10000\n",
        "\n",
        "linucb_model.train(train_data, batch_size)\n"
      ],
      "metadata": {
        "id": "sFTN7ZWz0sm2",
        "colab": {
          "base_uri": "https://localhost:8080/"
        },
        "outputId": "5f67022f-99f6-44a0-9ef2-ec2e46f7af9a"
      },
      "execution_count": 13,
      "outputs": [
        {
          "output_type": "stream",
          "name": "stderr",
          "text": [
            "Training: 100%|██████████| 97/97 [00:05<00:00, 17.85it/s]\n"
          ]
        }
      ]
    },
    {
      "cell_type": "code",
      "source": [
        "ucb_model.compute_ucb()"
      ],
      "metadata": {
        "id": "p_5OIqzAmeO2",
        "colab": {
          "base_uri": "https://localhost:8080/"
        },
        "outputId": "06a63b26-4b24-496b-a1b6-225ac63d0d42"
      },
      "execution_count": 14,
      "outputs": [
        {
          "output_type": "execute_result",
          "data": {
            "text/plain": [
              "array([0.08456059, 0.08691289, 0.08528053, 0.088666  , 0.08152744,\n",
              "       0.08476893, 0.08683937, 0.08773297, 0.08817574, 0.08747836,\n",
              "       0.08633903, 0.08573654, 0.08415205, 0.08750909, 0.08389824,\n",
              "       0.08732053, 0.08432169, 0.08279091, 0.08445502, 0.08263518,\n",
              "       0.08485471, 0.08358569, 0.0862706 , 0.08711906, 0.08454317,\n",
              "       0.08323611, 0.08335518, 0.08469237, 0.08606091, 0.08780051,\n",
              "       0.08602426, 0.08638837, 0.08630156, 0.08453915, 0.09109815,\n",
              "       0.08968316, 0.09136008, 0.08406715, 0.0905777 , 0.08839408,\n",
              "       0.08305613, 0.08976989, 0.08728043, 0.092217  , 0.08760865,\n",
              "       0.0878978 , 0.08681116, 0.09017817, 0.0899492 , 0.08498188,\n",
              "       0.08994405, 0.0911293 , 0.08689279, 0.08978022, 0.08622462,\n",
              "       0.0868428 , 0.08301666, 0.08629736, 0.08692536, 0.08892905,\n",
              "       0.09504148, 0.0876287 , 0.09096538, 0.08717876, 0.08841291,\n",
              "       0.08730029, 0.08928407, 0.0859745 , 0.08228245, 0.08145505,\n",
              "       0.08201773, 0.08716534, 0.08492583, 0.08679167, 0.08356998,\n",
              "       0.08683146, 0.08591005, 0.08103691, 0.08719722, 0.08602541,\n",
              "       0.08434314, 0.08245881, 0.08351186, 0.08655001, 0.08397972,\n",
              "       0.08510533, 0.09249209, 0.0858621 , 0.08589906, 0.08234487,\n",
              "       0.08530246, 0.08722124, 0.0840602 , 0.08672181, 0.08662326,\n",
              "       0.08388534, 0.08577474, 0.08730029, 0.08695409, 0.08524196,\n",
              "       0.08312814, 0.08474736, 0.08700776, 0.0839118 , 0.0872267 ,\n",
              "       0.08699217, 0.08711699, 0.08487037, 0.08632105, 0.08343105,\n",
              "       0.08338242, 0.08571665, 0.08699467, 0.08322037, 0.08980591,\n",
              "       0.09050111, 0.08584314, 0.09056509, 0.09146077, 0.08813704,\n",
              "       0.08418169, 0.08884394, 0.08612128, 0.0915049 , 0.08528189,\n",
              "       0.08904313, 0.08677898, 0.08590233, 0.09024463, 0.08496072,\n",
              "       0.08728423, 0.08456236, 0.08888544, 0.08772181, 0.08481133,\n",
              "       0.08565356, 0.08116062, 0.09227267, 0.08956598, 0.08929748,\n",
              "       0.09753537, 0.08869084, 0.08587686, 0.08835327, 0.08461783,\n",
              "       0.08717094, 0.08289905, 0.08482292, 0.08383264, 0.08645541,\n",
              "       0.08525899, 0.08183162, 0.08230696, 0.0871369 , 0.08571583,\n",
              "       0.08788465, 0.08723288, 0.08690239, 0.08954682, 0.08970635,\n",
              "       0.08700916, 0.08587106, 0.08159747, 0.08477884, 0.08453257,\n",
              "       0.08749134, 0.08257196, 0.08580189, 0.08673358, 0.083843  ,\n",
              "       0.08544731, 0.09202018, 0.08656528, 0.08287344, 0.08375695,\n",
              "       0.0814646 , 0.08528877, 0.08469216, 0.08381641, 0.08786747,\n",
              "       0.08348055, 0.08543292, 0.0846046 , 0.08420025, 0.085581  ,\n",
              "       0.08496195, 0.08609668, 0.08299691, 0.08955617, 0.08480049,\n",
              "       0.0830996 , 0.08667562, 0.08563187, 0.08168104, 0.08823875,\n",
              "       0.08794405, 0.09025701, 0.08842004, 0.08777659, 0.08808358,\n",
              "       0.08214566, 0.08926922, 0.08937042, 0.08368943, 0.08695071,\n",
              "       0.08682432, 0.08413245, 0.08923978, 0.09200029, 0.09066332,\n",
              "       0.08980197, 0.08565079, 0.085684  , 0.08642318, 0.0888061 ,\n",
              "       0.08790327, 0.08681283, 0.08373044, 0.09352192, 0.08560962,\n",
              "       0.08929054, 0.08760547, 0.08683702, 0.08654849, 0.08604983,\n",
              "       0.08712073, 0.081522  , 0.08364858, 0.08560334, 0.08779589,\n",
              "       0.08145949, 0.08716687, 0.08495149, 0.08228429, 0.08567291,\n",
              "       0.08492624, 0.08636127, 0.08681132, 0.09036395, 0.0858401 ])"
            ]
          },
          "metadata": {},
          "execution_count": 14
        }
      ]
    },
    {
      "cell_type": "code",
      "source": [
        "import numpy as np\n",
        "from scipy.special import softmax\n",
        "from tqdm import tqdm\n",
        "\n",
        "def predict_softmax_probabilities_armwise(model, test_contexts, temperature=1.0):\n",
        "    n_users = test_contexts.shape[0]\n",
        "    num_items = model.num_arms\n",
        "\n",
        "    payoffs = np.zeros((n_users, num_items))\n",
        "\n",
        "    for a in tqdm(range(num_items), desc=\"Predicting probabilities (arm-wise)\"):\n",
        "        x_a = model.item_features[a]\n",
        "        A_inv_a = model.A_inv[a]\n",
        "        theta_a = model.A_inv[a] @ model.rhs[a]\n",
        "\n",
        "        x_ua = np.hstack((test_contexts, np.tile(x_a, (n_users, 1))))\n",
        "\n",
        "        exploration = model.alpha * np.sqrt((x_ua.dot(A_inv_a) * x_ua).sum(axis=1))\n",
        "        payoffs[:, a] = x_ua @ theta_a + exploration\n",
        "\n",
        "    probabilities = softmax(payoffs / temperature, axis=1)\n",
        "    probabilities = probabilities[:, :, np.newaxis]\n",
        "\n",
        "    return probabilities\n"
      ],
      "metadata": {
        "id": "ECH2JE9cJ10f"
      },
      "execution_count": 15,
      "outputs": []
    },
    {
      "cell_type": "code",
      "source": [
        "test_contexts = bandit_feedback_test['context']\n",
        "softmax_probabilities = predict_softmax_probabilities_armwise(\n",
        "    linucb_model, test_contexts, temperature=1.0\n",
        ")\n",
        "\n",
        "print(softmax_probabilities.shape)\n",
        "\n"
      ],
      "metadata": {
        "id": "D1OhAWjWK2RS",
        "colab": {
          "base_uri": "https://localhost:8080/"
        },
        "outputId": "c58c50c3-23dd-4529-8fbc-a05c78c13970"
      },
      "execution_count": 16,
      "outputs": [
        {
          "output_type": "stream",
          "name": "stderr",
          "text": [
            "Predicting probabilities (arm-wise): 100%|██████████| 240/240 [01:18<00:00,  3.04it/s]\n"
          ]
        },
        {
          "output_type": "stream",
          "name": "stdout",
          "text": [
            "(412299, 240, 1)\n"
          ]
        }
      ]
    },
    {
      "cell_type": "code",
      "source": [
        "ucb_best_act = ucb_model.select_best_action(test_contexts.shape[0])"
      ],
      "metadata": {
        "id": "IeWCMhsDnysl"
      },
      "execution_count": 17,
      "outputs": []
    },
    {
      "cell_type": "code",
      "source": [
        "np.save(f'random_lin_ucb_policy_eps=-10_', softmax_probabilities)"
      ],
      "metadata": {
        "id": "yBw_9NFSjs6v"
      },
      "execution_count": 18,
      "outputs": []
    },
    {
      "cell_type": "code",
      "source": [
        "np.save(f'random_ucb_policy_eps=-10_', ucb_best_act)"
      ],
      "metadata": {
        "id": "xloLrc8vp-US"
      },
      "execution_count": 19,
      "outputs": []
    },
    {
      "cell_type": "code",
      "source": [
        "!zip random_lin_ucb_policy_eps=-10_.zip random_lin_ucb_policy_eps=-10_.npy"
      ],
      "metadata": {
        "colab": {
          "base_uri": "https://localhost:8080/"
        },
        "id": "oWF46C6k7pNo",
        "outputId": "4095363c-df69-46f4-e13a-c3cf2b76fcc5"
      },
      "execution_count": 20,
      "outputs": [
        {
          "output_type": "stream",
          "name": "stdout",
          "text": [
            "  adding: random_lin_ucb_policy_eps=-10_.npy (deflated 81%)\n"
          ]
        }
      ]
    },
    {
      "cell_type": "code",
      "source": [
        "!zip random_ucb_policy_eps=-10_.zip random_ucb_policy_eps=-10_.npy"
      ],
      "metadata": {
        "colab": {
          "base_uri": "https://localhost:8080/"
        },
        "id": "WBf8Z3hCq1_b",
        "outputId": "59831382-9948-4e53-b7c0-863ddd9137d1"
      },
      "execution_count": 21,
      "outputs": [
        {
          "output_type": "stream",
          "name": "stdout",
          "text": [
            "  adding: random_ucb_policy_eps=-10_.npy (deflated 99%)\n"
          ]
        }
      ]
    },
    {
      "cell_type": "code",
      "source": [
        "from typing import Dict, List, Tuple\n",
        "\n",
        "import numpy as np\n",
        "from obp.ope import RegressionModel\n",
        "from sklearn.linear_model import LogisticRegression\n",
        "\n",
        "def get_est_rewards_by_reg(n_actions, len_list, bandit_feedback_train, bandit_feedback_test):\n",
        "    \"\"\"\n",
        "    Fit Logistic Regression to rewards from `bandit_feedback`.\n",
        "    \"\"\"\n",
        "    regression_model = RegressionModel(\n",
        "        n_actions=n_actions,\n",
        "        len_list=len_list,\n",
        "        action_context=bandit_feedback_train[\"action_context\"],\n",
        "        base_model=LogisticRegression(max_iter=1000, random_state=12345),\n",
        "    )\n",
        "\n",
        "    regression_model.fit(\n",
        "        context=bandit_feedback_train[\"context\"],\n",
        "        action=bandit_feedback_train[\"action\"],\n",
        "        reward=bandit_feedback_train[\"reward\"],\n",
        "        pscore=bandit_feedback_train[\"pscore\"],\n",
        "    )\n",
        "\n",
        "    estimated_rewards_by_reg_model = regression_model.predict(\n",
        "        context=bandit_feedback_test[\"context\"],\n",
        "    )\n",
        "\n",
        "    return estimated_rewards_by_reg_model"
      ],
      "metadata": {
        "id": "LVIIPpTx8cfD"
      },
      "execution_count": 22,
      "outputs": []
    },
    {
      "cell_type": "code",
      "source": [
        "estimated_rewards_by_reg_model = get_est_rewards_by_reg(bandit_feedback_train['n_actions'],\n",
        "                                                        1,\n",
        "                                                        bandit_feedback_train,\n",
        "                                                        bandit_feedback_test)"
      ],
      "metadata": {
        "id": "smq3erLNH18Z"
      },
      "execution_count": 23,
      "outputs": []
    },
    {
      "cell_type": "code",
      "source": [
        "pi_a_x_e_estimator = LogisticRegression(max_iter=100, random_state=12345)\n",
        "X = np.c_[bandit_feedback_train['context'][:100000], bandit_feedback_train['action_context'][:100000]]\n",
        "action = bandit_feedback_train['action'][:100000]"
      ],
      "metadata": {
        "id": "EtC0Y5aHhIs-"
      },
      "execution_count": 58,
      "outputs": []
    },
    {
      "cell_type": "code",
      "source": [
        "pi_a_x_e_estimator.fit(X, action)"
      ],
      "metadata": {
        "colab": {
          "base_uri": "https://localhost:8080/",
          "height": 219
        },
        "id": "UDqHpUxMhPLy",
        "outputId": "3756cb62-166c-4221-e797-73b79252b019"
      },
      "execution_count": 59,
      "outputs": [
        {
          "output_type": "stream",
          "name": "stderr",
          "text": [
            "/usr/local/lib/python3.11/dist-packages/sklearn/linear_model/_logistic.py:465: ConvergenceWarning: lbfgs failed to converge (status=1):\n",
            "STOP: TOTAL NO. of ITERATIONS REACHED LIMIT.\n",
            "\n",
            "Increase the number of iterations (max_iter) or scale the data as shown in:\n",
            "    https://scikit-learn.org/stable/modules/preprocessing.html\n",
            "Please also refer to the documentation for alternative solver options:\n",
            "    https://scikit-learn.org/stable/modules/linear_model.html#logistic-regression\n",
            "  n_iter_i = _check_optimize_result(\n"
          ]
        },
        {
          "output_type": "execute_result",
          "data": {
            "text/plain": [
              "LogisticRegression(random_state=12345)"
            ],
            "text/html": [
              "<style>#sk-container-id-3 {\n",
              "  /* Definition of color scheme common for light and dark mode */\n",
              "  --sklearn-color-text: #000;\n",
              "  --sklearn-color-text-muted: #666;\n",
              "  --sklearn-color-line: gray;\n",
              "  /* Definition of color scheme for unfitted estimators */\n",
              "  --sklearn-color-unfitted-level-0: #fff5e6;\n",
              "  --sklearn-color-unfitted-level-1: #f6e4d2;\n",
              "  --sklearn-color-unfitted-level-2: #ffe0b3;\n",
              "  --sklearn-color-unfitted-level-3: chocolate;\n",
              "  /* Definition of color scheme for fitted estimators */\n",
              "  --sklearn-color-fitted-level-0: #f0f8ff;\n",
              "  --sklearn-color-fitted-level-1: #d4ebff;\n",
              "  --sklearn-color-fitted-level-2: #b3dbfd;\n",
              "  --sklearn-color-fitted-level-3: cornflowerblue;\n",
              "\n",
              "  /* Specific color for light theme */\n",
              "  --sklearn-color-text-on-default-background: var(--sg-text-color, var(--theme-code-foreground, var(--jp-content-font-color1, black)));\n",
              "  --sklearn-color-background: var(--sg-background-color, var(--theme-background, var(--jp-layout-color0, white)));\n",
              "  --sklearn-color-border-box: var(--sg-text-color, var(--theme-code-foreground, var(--jp-content-font-color1, black)));\n",
              "  --sklearn-color-icon: #696969;\n",
              "\n",
              "  @media (prefers-color-scheme: dark) {\n",
              "    /* Redefinition of color scheme for dark theme */\n",
              "    --sklearn-color-text-on-default-background: var(--sg-text-color, var(--theme-code-foreground, var(--jp-content-font-color1, white)));\n",
              "    --sklearn-color-background: var(--sg-background-color, var(--theme-background, var(--jp-layout-color0, #111)));\n",
              "    --sklearn-color-border-box: var(--sg-text-color, var(--theme-code-foreground, var(--jp-content-font-color1, white)));\n",
              "    --sklearn-color-icon: #878787;\n",
              "  }\n",
              "}\n",
              "\n",
              "#sk-container-id-3 {\n",
              "  color: var(--sklearn-color-text);\n",
              "}\n",
              "\n",
              "#sk-container-id-3 pre {\n",
              "  padding: 0;\n",
              "}\n",
              "\n",
              "#sk-container-id-3 input.sk-hidden--visually {\n",
              "  border: 0;\n",
              "  clip: rect(1px 1px 1px 1px);\n",
              "  clip: rect(1px, 1px, 1px, 1px);\n",
              "  height: 1px;\n",
              "  margin: -1px;\n",
              "  overflow: hidden;\n",
              "  padding: 0;\n",
              "  position: absolute;\n",
              "  width: 1px;\n",
              "}\n",
              "\n",
              "#sk-container-id-3 div.sk-dashed-wrapped {\n",
              "  border: 1px dashed var(--sklearn-color-line);\n",
              "  margin: 0 0.4em 0.5em 0.4em;\n",
              "  box-sizing: border-box;\n",
              "  padding-bottom: 0.4em;\n",
              "  background-color: var(--sklearn-color-background);\n",
              "}\n",
              "\n",
              "#sk-container-id-3 div.sk-container {\n",
              "  /* jupyter's `normalize.less` sets `[hidden] { display: none; }`\n",
              "     but bootstrap.min.css set `[hidden] { display: none !important; }`\n",
              "     so we also need the `!important` here to be able to override the\n",
              "     default hidden behavior on the sphinx rendered scikit-learn.org.\n",
              "     See: https://github.com/scikit-learn/scikit-learn/issues/21755 */\n",
              "  display: inline-block !important;\n",
              "  position: relative;\n",
              "}\n",
              "\n",
              "#sk-container-id-3 div.sk-text-repr-fallback {\n",
              "  display: none;\n",
              "}\n",
              "\n",
              "div.sk-parallel-item,\n",
              "div.sk-serial,\n",
              "div.sk-item {\n",
              "  /* draw centered vertical line to link estimators */\n",
              "  background-image: linear-gradient(var(--sklearn-color-text-on-default-background), var(--sklearn-color-text-on-default-background));\n",
              "  background-size: 2px 100%;\n",
              "  background-repeat: no-repeat;\n",
              "  background-position: center center;\n",
              "}\n",
              "\n",
              "/* Parallel-specific style estimator block */\n",
              "\n",
              "#sk-container-id-3 div.sk-parallel-item::after {\n",
              "  content: \"\";\n",
              "  width: 100%;\n",
              "  border-bottom: 2px solid var(--sklearn-color-text-on-default-background);\n",
              "  flex-grow: 1;\n",
              "}\n",
              "\n",
              "#sk-container-id-3 div.sk-parallel {\n",
              "  display: flex;\n",
              "  align-items: stretch;\n",
              "  justify-content: center;\n",
              "  background-color: var(--sklearn-color-background);\n",
              "  position: relative;\n",
              "}\n",
              "\n",
              "#sk-container-id-3 div.sk-parallel-item {\n",
              "  display: flex;\n",
              "  flex-direction: column;\n",
              "}\n",
              "\n",
              "#sk-container-id-3 div.sk-parallel-item:first-child::after {\n",
              "  align-self: flex-end;\n",
              "  width: 50%;\n",
              "}\n",
              "\n",
              "#sk-container-id-3 div.sk-parallel-item:last-child::after {\n",
              "  align-self: flex-start;\n",
              "  width: 50%;\n",
              "}\n",
              "\n",
              "#sk-container-id-3 div.sk-parallel-item:only-child::after {\n",
              "  width: 0;\n",
              "}\n",
              "\n",
              "/* Serial-specific style estimator block */\n",
              "\n",
              "#sk-container-id-3 div.sk-serial {\n",
              "  display: flex;\n",
              "  flex-direction: column;\n",
              "  align-items: center;\n",
              "  background-color: var(--sklearn-color-background);\n",
              "  padding-right: 1em;\n",
              "  padding-left: 1em;\n",
              "}\n",
              "\n",
              "\n",
              "/* Toggleable style: style used for estimator/Pipeline/ColumnTransformer box that is\n",
              "clickable and can be expanded/collapsed.\n",
              "- Pipeline and ColumnTransformer use this feature and define the default style\n",
              "- Estimators will overwrite some part of the style using the `sk-estimator` class\n",
              "*/\n",
              "\n",
              "/* Pipeline and ColumnTransformer style (default) */\n",
              "\n",
              "#sk-container-id-3 div.sk-toggleable {\n",
              "  /* Default theme specific background. It is overwritten whether we have a\n",
              "  specific estimator or a Pipeline/ColumnTransformer */\n",
              "  background-color: var(--sklearn-color-background);\n",
              "}\n",
              "\n",
              "/* Toggleable label */\n",
              "#sk-container-id-3 label.sk-toggleable__label {\n",
              "  cursor: pointer;\n",
              "  display: flex;\n",
              "  width: 100%;\n",
              "  margin-bottom: 0;\n",
              "  padding: 0.5em;\n",
              "  box-sizing: border-box;\n",
              "  text-align: center;\n",
              "  align-items: start;\n",
              "  justify-content: space-between;\n",
              "  gap: 0.5em;\n",
              "}\n",
              "\n",
              "#sk-container-id-3 label.sk-toggleable__label .caption {\n",
              "  font-size: 0.6rem;\n",
              "  font-weight: lighter;\n",
              "  color: var(--sklearn-color-text-muted);\n",
              "}\n",
              "\n",
              "#sk-container-id-3 label.sk-toggleable__label-arrow:before {\n",
              "  /* Arrow on the left of the label */\n",
              "  content: \"▸\";\n",
              "  float: left;\n",
              "  margin-right: 0.25em;\n",
              "  color: var(--sklearn-color-icon);\n",
              "}\n",
              "\n",
              "#sk-container-id-3 label.sk-toggleable__label-arrow:hover:before {\n",
              "  color: var(--sklearn-color-text);\n",
              "}\n",
              "\n",
              "/* Toggleable content - dropdown */\n",
              "\n",
              "#sk-container-id-3 div.sk-toggleable__content {\n",
              "  max-height: 0;\n",
              "  max-width: 0;\n",
              "  overflow: hidden;\n",
              "  text-align: left;\n",
              "  /* unfitted */\n",
              "  background-color: var(--sklearn-color-unfitted-level-0);\n",
              "}\n",
              "\n",
              "#sk-container-id-3 div.sk-toggleable__content.fitted {\n",
              "  /* fitted */\n",
              "  background-color: var(--sklearn-color-fitted-level-0);\n",
              "}\n",
              "\n",
              "#sk-container-id-3 div.sk-toggleable__content pre {\n",
              "  margin: 0.2em;\n",
              "  border-radius: 0.25em;\n",
              "  color: var(--sklearn-color-text);\n",
              "  /* unfitted */\n",
              "  background-color: var(--sklearn-color-unfitted-level-0);\n",
              "}\n",
              "\n",
              "#sk-container-id-3 div.sk-toggleable__content.fitted pre {\n",
              "  /* unfitted */\n",
              "  background-color: var(--sklearn-color-fitted-level-0);\n",
              "}\n",
              "\n",
              "#sk-container-id-3 input.sk-toggleable__control:checked~div.sk-toggleable__content {\n",
              "  /* Expand drop-down */\n",
              "  max-height: 200px;\n",
              "  max-width: 100%;\n",
              "  overflow: auto;\n",
              "}\n",
              "\n",
              "#sk-container-id-3 input.sk-toggleable__control:checked~label.sk-toggleable__label-arrow:before {\n",
              "  content: \"▾\";\n",
              "}\n",
              "\n",
              "/* Pipeline/ColumnTransformer-specific style */\n",
              "\n",
              "#sk-container-id-3 div.sk-label input.sk-toggleable__control:checked~label.sk-toggleable__label {\n",
              "  color: var(--sklearn-color-text);\n",
              "  background-color: var(--sklearn-color-unfitted-level-2);\n",
              "}\n",
              "\n",
              "#sk-container-id-3 div.sk-label.fitted input.sk-toggleable__control:checked~label.sk-toggleable__label {\n",
              "  background-color: var(--sklearn-color-fitted-level-2);\n",
              "}\n",
              "\n",
              "/* Estimator-specific style */\n",
              "\n",
              "/* Colorize estimator box */\n",
              "#sk-container-id-3 div.sk-estimator input.sk-toggleable__control:checked~label.sk-toggleable__label {\n",
              "  /* unfitted */\n",
              "  background-color: var(--sklearn-color-unfitted-level-2);\n",
              "}\n",
              "\n",
              "#sk-container-id-3 div.sk-estimator.fitted input.sk-toggleable__control:checked~label.sk-toggleable__label {\n",
              "  /* fitted */\n",
              "  background-color: var(--sklearn-color-fitted-level-2);\n",
              "}\n",
              "\n",
              "#sk-container-id-3 div.sk-label label.sk-toggleable__label,\n",
              "#sk-container-id-3 div.sk-label label {\n",
              "  /* The background is the default theme color */\n",
              "  color: var(--sklearn-color-text-on-default-background);\n",
              "}\n",
              "\n",
              "/* On hover, darken the color of the background */\n",
              "#sk-container-id-3 div.sk-label:hover label.sk-toggleable__label {\n",
              "  color: var(--sklearn-color-text);\n",
              "  background-color: var(--sklearn-color-unfitted-level-2);\n",
              "}\n",
              "\n",
              "/* Label box, darken color on hover, fitted */\n",
              "#sk-container-id-3 div.sk-label.fitted:hover label.sk-toggleable__label.fitted {\n",
              "  color: var(--sklearn-color-text);\n",
              "  background-color: var(--sklearn-color-fitted-level-2);\n",
              "}\n",
              "\n",
              "/* Estimator label */\n",
              "\n",
              "#sk-container-id-3 div.sk-label label {\n",
              "  font-family: monospace;\n",
              "  font-weight: bold;\n",
              "  display: inline-block;\n",
              "  line-height: 1.2em;\n",
              "}\n",
              "\n",
              "#sk-container-id-3 div.sk-label-container {\n",
              "  text-align: center;\n",
              "}\n",
              "\n",
              "/* Estimator-specific */\n",
              "#sk-container-id-3 div.sk-estimator {\n",
              "  font-family: monospace;\n",
              "  border: 1px dotted var(--sklearn-color-border-box);\n",
              "  border-radius: 0.25em;\n",
              "  box-sizing: border-box;\n",
              "  margin-bottom: 0.5em;\n",
              "  /* unfitted */\n",
              "  background-color: var(--sklearn-color-unfitted-level-0);\n",
              "}\n",
              "\n",
              "#sk-container-id-3 div.sk-estimator.fitted {\n",
              "  /* fitted */\n",
              "  background-color: var(--sklearn-color-fitted-level-0);\n",
              "}\n",
              "\n",
              "/* on hover */\n",
              "#sk-container-id-3 div.sk-estimator:hover {\n",
              "  /* unfitted */\n",
              "  background-color: var(--sklearn-color-unfitted-level-2);\n",
              "}\n",
              "\n",
              "#sk-container-id-3 div.sk-estimator.fitted:hover {\n",
              "  /* fitted */\n",
              "  background-color: var(--sklearn-color-fitted-level-2);\n",
              "}\n",
              "\n",
              "/* Specification for estimator info (e.g. \"i\" and \"?\") */\n",
              "\n",
              "/* Common style for \"i\" and \"?\" */\n",
              "\n",
              ".sk-estimator-doc-link,\n",
              "a:link.sk-estimator-doc-link,\n",
              "a:visited.sk-estimator-doc-link {\n",
              "  float: right;\n",
              "  font-size: smaller;\n",
              "  line-height: 1em;\n",
              "  font-family: monospace;\n",
              "  background-color: var(--sklearn-color-background);\n",
              "  border-radius: 1em;\n",
              "  height: 1em;\n",
              "  width: 1em;\n",
              "  text-decoration: none !important;\n",
              "  margin-left: 0.5em;\n",
              "  text-align: center;\n",
              "  /* unfitted */\n",
              "  border: var(--sklearn-color-unfitted-level-1) 1pt solid;\n",
              "  color: var(--sklearn-color-unfitted-level-1);\n",
              "}\n",
              "\n",
              ".sk-estimator-doc-link.fitted,\n",
              "a:link.sk-estimator-doc-link.fitted,\n",
              "a:visited.sk-estimator-doc-link.fitted {\n",
              "  /* fitted */\n",
              "  border: var(--sklearn-color-fitted-level-1) 1pt solid;\n",
              "  color: var(--sklearn-color-fitted-level-1);\n",
              "}\n",
              "\n",
              "/* On hover */\n",
              "div.sk-estimator:hover .sk-estimator-doc-link:hover,\n",
              ".sk-estimator-doc-link:hover,\n",
              "div.sk-label-container:hover .sk-estimator-doc-link:hover,\n",
              ".sk-estimator-doc-link:hover {\n",
              "  /* unfitted */\n",
              "  background-color: var(--sklearn-color-unfitted-level-3);\n",
              "  color: var(--sklearn-color-background);\n",
              "  text-decoration: none;\n",
              "}\n",
              "\n",
              "div.sk-estimator.fitted:hover .sk-estimator-doc-link.fitted:hover,\n",
              ".sk-estimator-doc-link.fitted:hover,\n",
              "div.sk-label-container:hover .sk-estimator-doc-link.fitted:hover,\n",
              ".sk-estimator-doc-link.fitted:hover {\n",
              "  /* fitted */\n",
              "  background-color: var(--sklearn-color-fitted-level-3);\n",
              "  color: var(--sklearn-color-background);\n",
              "  text-decoration: none;\n",
              "}\n",
              "\n",
              "/* Span, style for the box shown on hovering the info icon */\n",
              ".sk-estimator-doc-link span {\n",
              "  display: none;\n",
              "  z-index: 9999;\n",
              "  position: relative;\n",
              "  font-weight: normal;\n",
              "  right: .2ex;\n",
              "  padding: .5ex;\n",
              "  margin: .5ex;\n",
              "  width: min-content;\n",
              "  min-width: 20ex;\n",
              "  max-width: 50ex;\n",
              "  color: var(--sklearn-color-text);\n",
              "  box-shadow: 2pt 2pt 4pt #999;\n",
              "  /* unfitted */\n",
              "  background: var(--sklearn-color-unfitted-level-0);\n",
              "  border: .5pt solid var(--sklearn-color-unfitted-level-3);\n",
              "}\n",
              "\n",
              ".sk-estimator-doc-link.fitted span {\n",
              "  /* fitted */\n",
              "  background: var(--sklearn-color-fitted-level-0);\n",
              "  border: var(--sklearn-color-fitted-level-3);\n",
              "}\n",
              "\n",
              ".sk-estimator-doc-link:hover span {\n",
              "  display: block;\n",
              "}\n",
              "\n",
              "/* \"?\"-specific style due to the `<a>` HTML tag */\n",
              "\n",
              "#sk-container-id-3 a.estimator_doc_link {\n",
              "  float: right;\n",
              "  font-size: 1rem;\n",
              "  line-height: 1em;\n",
              "  font-family: monospace;\n",
              "  background-color: var(--sklearn-color-background);\n",
              "  border-radius: 1rem;\n",
              "  height: 1rem;\n",
              "  width: 1rem;\n",
              "  text-decoration: none;\n",
              "  /* unfitted */\n",
              "  color: var(--sklearn-color-unfitted-level-1);\n",
              "  border: var(--sklearn-color-unfitted-level-1) 1pt solid;\n",
              "}\n",
              "\n",
              "#sk-container-id-3 a.estimator_doc_link.fitted {\n",
              "  /* fitted */\n",
              "  border: var(--sklearn-color-fitted-level-1) 1pt solid;\n",
              "  color: var(--sklearn-color-fitted-level-1);\n",
              "}\n",
              "\n",
              "/* On hover */\n",
              "#sk-container-id-3 a.estimator_doc_link:hover {\n",
              "  /* unfitted */\n",
              "  background-color: var(--sklearn-color-unfitted-level-3);\n",
              "  color: var(--sklearn-color-background);\n",
              "  text-decoration: none;\n",
              "}\n",
              "\n",
              "#sk-container-id-3 a.estimator_doc_link.fitted:hover {\n",
              "  /* fitted */\n",
              "  background-color: var(--sklearn-color-fitted-level-3);\n",
              "}\n",
              "</style><div id=\"sk-container-id-3\" class=\"sk-top-container\"><div class=\"sk-text-repr-fallback\"><pre>LogisticRegression(random_state=12345)</pre><b>In a Jupyter environment, please rerun this cell to show the HTML representation or trust the notebook. <br />On GitHub, the HTML representation is unable to render, please try loading this page with nbviewer.org.</b></div><div class=\"sk-container\" hidden><div class=\"sk-item\"><div class=\"sk-estimator fitted sk-toggleable\"><input class=\"sk-toggleable__control sk-hidden--visually\" id=\"sk-estimator-id-3\" type=\"checkbox\" checked><label for=\"sk-estimator-id-3\" class=\"sk-toggleable__label fitted sk-toggleable__label-arrow\"><div><div>LogisticRegression</div></div><div><a class=\"sk-estimator-doc-link fitted\" rel=\"noreferrer\" target=\"_blank\" href=\"https://scikit-learn.org/1.6/modules/generated/sklearn.linear_model.LogisticRegression.html\">?<span>Documentation for LogisticRegression</span></a><span class=\"sk-estimator-doc-link fitted\">i<span>Fitted</span></span></div></label><div class=\"sk-toggleable__content fitted\"><pre>LogisticRegression(random_state=12345)</pre></div> </div></div></div></div>"
            ]
          },
          "metadata": {},
          "execution_count": 59
        }
      ]
    },
    {
      "cell_type": "code",
      "source": [
        "x_e = np.c_[bandit_feedback_test['context'], bandit_feedback_test['action_context']]\n",
        "pi_a_x_e_test = pi_a_x_e_estimator.predict_proba(x_e)"
      ],
      "metadata": {
        "id": "1J2teNgohPO3"
      },
      "execution_count": 60,
      "outputs": []
    },
    {
      "cell_type": "code",
      "source": [
        "np.save('pi_a_x_e_test', pi_a_x_e_test)"
      ],
      "metadata": {
        "id": "XWKthF2ehPS3"
      },
      "execution_count": 61,
      "outputs": []
    },
    {
      "cell_type": "code",
      "source": [
        "!zip pi_a_x_e_test.zip pi_a_x_e_test.npy"
      ],
      "metadata": {
        "colab": {
          "base_uri": "https://localhost:8080/"
        },
        "id": "WMWUpRDAhsDk",
        "outputId": "b90c6002-5c22-45d1-ae1e-eefcda4f714e"
      },
      "execution_count": 62,
      "outputs": [
        {
          "output_type": "stream",
          "name": "stdout",
          "text": [
            "updating: pi_a_x_e_test.npy\n",
            "\n",
            "\n",
            "zip error: Interrupted (aborting)\n"
          ]
        }
      ]
    },
    {
      "cell_type": "code",
      "source": [
        "#предобученный\n",
        "from sklearn.cluster import MiniBatchKMeans\n",
        "def ipw(pi_e, pi_0, r, r_hat):\n",
        "    weights = pi_e/pi_0\n",
        "    return weights * r\n",
        "\n",
        "def snipw(pi_e, pi_0, r, r_hat):\n",
        "    weights = pi_e/pi_0\n",
        "    weights = weights/weights.mean()\n",
        "    return weights * r\n",
        "\n",
        "def sndr(pi_e, pi_0, r, r_hat, dm):\n",
        "    weights = pi_e/pi_0\n",
        "    weights = weights/weights.mean()\n",
        "    return dm + weights*(r-r_hat)\n",
        "\n",
        "def dr(pi_e, pi_0, r, r_hat, dm):\n",
        "    weights = pi_e/pi_0\n",
        "    return dm + weights*(r-r_hat)\n",
        "\n",
        "def dm(dm):\n",
        "    return dm\n",
        "\n",
        "def chips(pi_e, pi_0, r, r_hat, clusters, actions):\n",
        "    a = 3\n",
        "    unique_pairs = np.unique(list(zip(clusters, actions)), axis=0)\n",
        "\n",
        "    pi_e_means = np.zeros_like(pi_e)\n",
        "    pi_0_means = np.zeros_like(pi_0)\n",
        "    r_means = np.zeros_like(r, dtype=float)\n",
        "\n",
        "    for cluster, action in unique_pairs:\n",
        "        mask = (clusters == cluster) & (actions == action)\n",
        "        pi_e_means[mask] = pi_e[mask].mean()\n",
        "        pi_0_means[mask] = pi_0[mask].mean()\n",
        "        r_means[mask] = (r[mask].sum() + a - 1) / (mask.sum() + 2 * a - 2)\n",
        "\n",
        "    return (pi_e_means / pi_0_means) * r_means\n",
        "\n",
        "def chips_modified(pi_e_full, pi_0, r, r_hat, clusters, actions):\n",
        "    a = 3\n",
        "    unique_pairs = np.unique(list(zip(clusters, actions)), axis=0)\n",
        "\n",
        "    pi_e_means = np.zeros_like(pi_0)\n",
        "    pi_0_means = np.zeros_like(pi_0)\n",
        "    r_means = np.zeros_like(r, dtype=float)\n",
        "\n",
        "    for cluster, action in unique_pairs:\n",
        "        mask_1 = (clusters == cluster)\n",
        "        mask_2 = mask_1 & (actions == action)\n",
        "        pi_e_means[mask_1] = pi_e_full.squeeze()[mask_1].mean(axis = 1)\n",
        "        pi_0_means[mask_2] = pi_0[mask_2].mean()\n",
        "        r_means[mask_2] = (r[mask_2].sum() + a - 1) / (mask_2.sum() + 2 * a - 2)\n",
        "\n",
        "    return (pi_e_means / pi_0_means) * r_means\n",
        "\n",
        "def mips(pi_e, pi_0, r, pi_a_x_e, actions):\n",
        "    unique_actions = np.unique(actions)\n",
        "    avg_pi_0 = np.zeros(240)\n",
        "    # Efficiently compute avg_pi_0 using np.bincount (avoids looping)\n",
        "    for a in unique_actions:\n",
        "        avg_pi_0[a] = pi_0[actions == a].mean()\n",
        "\n",
        "    # Compute weights directly\n",
        "    weights = np.divide(pi_e.squeeze(), avg_pi_0, out=np.zeros_like(pi_e.squeeze()), where=avg_pi_0!= 0)\n",
        "\n",
        "    # Compute marginal weights efficiently\n",
        "    marginal_weights = np.einsum('ij,ij->i', weights, pi_a_x_e)\n",
        "\n",
        "    return marginal_weights * r\n",
        "\n"
      ],
      "metadata": {
        "id": "bVczXiSFH885"
      },
      "execution_count": 63,
      "outputs": []
    },
    {
      "cell_type": "code",
      "source": [
        "!unzip random_lin_ucb_policy_eps=-10_.zip\n",
        "!unzip random_ucb_policy_eps=-10_.zip"
      ],
      "metadata": {
        "colab": {
          "base_uri": "https://localhost:8080/"
        },
        "id": "uVpOayUDIiMp",
        "outputId": "15e43ae6-7586-406f-ee8e-427a72b09119"
      },
      "execution_count": 25,
      "outputs": [
        {
          "output_type": "stream",
          "name": "stdout",
          "text": [
            "Archive:  random_lin_ucb_policy_eps=-10_.zip\n",
            "replace random_lin_ucb_policy_eps=-10_.npy? [y]es, [n]o, [A]ll, [N]one, [r]ename: Archive:  random_ucb_policy_eps=-10_.zip\n",
            "replace random_ucb_policy_eps=-10_.npy? [y]es, [n]o, [A]ll, [N]one, [r]ename: "
          ]
        }
      ]
    },
    {
      "cell_type": "code",
      "source": [
        "all_action_dist_linucb = np.load(f\"random_lin_ucb_policy_eps=-10_.npy\")\n",
        "all_action_dist_ucb = np.load(f\"random_ucb_policy_eps=-10_.npy\")\n",
        "# all_action_dist_3 = np.load(f\"bts_lin_ucb_policy_eps=-10_.npy\")"
      ],
      "metadata": {
        "id": "s8juEnHWJkwS"
      },
      "execution_count": 64,
      "outputs": []
    },
    {
      "cell_type": "code",
      "source": [
        "r_hat = estimated_rewards_by_reg_model[np.arange(bandit_feedback_test['action'].shape[0]), bandit_feedback_test['action'], 0]\n",
        "DM_method_1_linucb = (estimated_rewards_by_reg_model * all_action_dist_linucb).sum(axis = 1).squeeze()\n",
        "DM_method_1_ucb = (estimated_rewards_by_reg_model * all_action_dist_ucb ).sum(axis = 1).squeeze()"
      ],
      "metadata": {
        "id": "MoCGWBWqIOUc"
      },
      "execution_count": 65,
      "outputs": []
    },
    {
      "cell_type": "code",
      "source": [
        "#test_sizes = [50000, 100000, 500000]+ [bandit_feedback_test['n_rounds']//5*i for i in range(1,4)] + [bandit_feedback_test['n_rounds']]\n",
        "#test_sizes = [bandit_feedback_test['n_rounds']//5*i for i in range(1,4)] + [bandit_feedback_test['n_rounds']]\n",
        "test_sizes = [bandit_feedback_test['n_rounds']//5*i for i in range(1,4)] + [bandit_feedback_test['n_rounds']]"
      ],
      "metadata": {
        "id": "uXHyED9sLyu8"
      },
      "execution_count": 106,
      "outputs": []
    },
    {
      "cell_type": "code",
      "source": [
        "#that\n",
        "def run_exp(all_action_dist, DM_method):\n",
        "    metrics = ['ipw', 'snipw', 'dr', 'sndr', 'dm', 'chips', 'chips_mod', 'mips']\n",
        "    pi_e = all_action_dist[np.arange(bandit_feedback_test['action'].shape[0]), bandit_feedback_test['action'], 0].copy()\n",
        "    cnt_inner_bootstraps = 100\n",
        "    _alpha = 0.05\n",
        "    CIs = []\n",
        "    for n_size in test_sizes:\n",
        "        res = {}\n",
        "        pi_e_subset = pi_e[:n_size].copy()\n",
        "        r_hat_subset = r_hat[:n_size].copy()\n",
        "        r_subset = bandit_feedback_test['reward'][:n_size].copy()\n",
        "        dm_subset = DM_method[:n_size].copy()\n",
        "        stats = {}\n",
        "        print(n_size)\n",
        "        for metric in metrics:\n",
        "            stats[metric] = []\n",
        "        behavior_policies = bandit_feedback_test['pscore']\n",
        "\n",
        "        pi_0_subset= behavior_policies[:n_size]\n",
        "        ipw_est_round_rewards = ipw(pi_e_subset, pi_0_subset, r_subset, r_hat_subset)\n",
        "        snipw_est_round_rewards = snipw(pi_e_subset, pi_0_subset, r_subset, r_hat_subset)\n",
        "        sndr_est_round_rewards = sndr(pi_e_subset, pi_0_subset, r_subset, r_hat_subset, dm_subset)\n",
        "        dr_est_round_rewards = dr(pi_e_subset, pi_0_subset, r_subset, r_hat_subset, dm_subset)\n",
        "        dm_est_round_rewards = dm(dm_subset)\n",
        "        chips_est_round_rewards = chips(pi_e_subset, pi_0_subset, r_subset, r_hat_subset, clasters[:n_size], bandit_feedback_test['action'][:n_size])\n",
        "        chips_mod_est_round_rewards = chips_modified(all_action_dist[:n_size], pi_0_subset, r_subset, r_hat_subset, clasters[:n_size], bandit_feedback_test['action'][:n_size])\n",
        "        mips_est_round_rewards = mips(all_action_dist[:n_size], pi_0_subset, r_subset, pi_a_x_e_test[:n_size],\n",
        "                              bandit_feedback_test['action'][:n_size])\n",
        "\n",
        "\n",
        "\n",
        "\n",
        "        #mips_est_round_rewards = mips(pi_e_subset, pi_0_subset, r_subset, pi_a_x_e_test[:n_size])\n",
        "        for j in range(cnt_inner_bootstraps):\n",
        "            bootstrap_idxs = np.random.randint(n_size, size=n_size)\n",
        "            stats['ipw'].append(ipw_est_round_rewards[bootstrap_idxs].mean())\n",
        "            stats['snipw'].append(snipw_est_round_rewards[bootstrap_idxs].mean())\n",
        "            stats['sndr'].append(sndr_est_round_rewards[bootstrap_idxs].mean())\n",
        "            stats['dm'].append(dm_est_round_rewards[bootstrap_idxs].mean())\n",
        "            stats['dr'].append(dr_est_round_rewards[bootstrap_idxs].mean())\n",
        "            stats['chips'].append(chips_est_round_rewards[bootstrap_idxs].mean())\n",
        "            stats['chips_mod'].append(chips_mod_est_round_rewards[bootstrap_idxs].mean())\n",
        "            stats['mips'].append(mips_est_round_rewards[bootstrap_idxs].mean())\n",
        "        for metric in metrics:\n",
        "            dct = {}\n",
        "            values = stats[metric]\n",
        "            dct['mean'] = np.mean(values)\n",
        "            dct['95.0% CI (lower)'] = np.percentile(values, 100 * (_alpha / 2))\n",
        "            dct['95.0% CI (upper)'] = np.percentile(values, 100 * (1.0 - _alpha / 2))\n",
        "            res[metric] = dct\n",
        "        CIs.append(res)\n",
        "    return CIs"
      ],
      "metadata": {
        "id": "KijI5tm8KXs1"
      },
      "execution_count": 107,
      "outputs": []
    },
    {
      "cell_type": "code",
      "source": [
        "kmeans = MiniBatchKMeans(n_clusters=8,\n",
        "                            random_state=42,\n",
        "                            batch_size=1024,\n",
        "                            max_iter=1000,\n",
        "                            n_init=\"auto\").fit(bandit_feedback_train['context'])\n",
        "clasters = kmeans.predict(bandit_feedback_test['context'])"
      ],
      "metadata": {
        "id": "UCNBG9u9dt5b"
      },
      "execution_count": 108,
      "outputs": []
    },
    {
      "cell_type": "code",
      "source": [
        "import matplotlib.pyplot as plt\n",
        "def plot_CIs(CIs, model):\n",
        "    fig, ax = plt.subplots(1, figsize=(10, 10))\n",
        "\n",
        "    x = test_sizes\n",
        "\n",
        "    colors = ['b', 'r', 'g', 'y', 'm', 'hotpink', 'k', 'indigo']\n",
        "    i = 0\n",
        "    for name in ['ipw', 'dm', 'sndr', 'snipw', 'dr','chips', 'chips_mod','mips']:\n",
        "        y_est = [estimated_ci[name][\"mean\"] for estimated_ci in CIs]\n",
        "        y_up = [estimated_ci[name][\"95.0% CI (upper)\"] for estimated_ci in CIs]\n",
        "        y_low = [estimated_ci[name][\"95.0% CI (lower)\"] for estimated_ci in CIs]\n",
        "\n",
        "        ax.plot(x, y_est, '-', label=name, color = colors[i])\n",
        "        ax.fill_between(x, y_low, y_up, alpha=0.2, color = colors[i])\n",
        "        i+=1\n",
        "\n",
        "    fig.suptitle(\"OPE for \" + \" \" + model, fontsize=16)\n",
        "    fig.legend(bbox_to_anchor=(1.04, 1), loc=\"upper left\")\n",
        "    plt.tight_layout()"
      ],
      "metadata": {
        "id": "NTnGcJ2sLvps"
      },
      "execution_count": 109,
      "outputs": []
    },
    {
      "cell_type": "code",
      "source": [
        "CIs_ucb = run_exp(all_action_dist_ucb, DM_method_1_ucb)"
      ],
      "metadata": {
        "id": "RWWq3drTPI5D"
      },
      "execution_count": null,
      "outputs": []
    },
    {
      "cell_type": "code",
      "source": [
        "plot_CIs(CIs_ucb, 'ucb')"
      ],
      "metadata": {
        "id": "ocDHog-HllSH"
      },
      "execution_count": null,
      "outputs": []
    },
    {
      "cell_type": "code",
      "source": [
        "rows_ucb = []\n",
        "for i, ci_dict in enumerate(CIs_ucb):\n",
        "  for method, values in ci_dict.items():\n",
        "      rows_ucb.append({\n",
        "          \"test_size\": test_sizes[i],\n",
        "          \"Method\": method,\n",
        "          \"Mean\": values[\"mean\"],\n",
        "          \"95% CI Lower\": values[\"95.0% CI (lower)\"],\n",
        "          \"95% CI Upper\": values[\"95.0% CI (upper)\"],\n",
        "          \"Size of CI\": values[\"95.0% CI (upper)\"] - values[\"95.0% CI (lower)\"]\n",
        "      })\n",
        "\n",
        "df_ucb = pd.DataFrame(rows_ucb)"
      ],
      "metadata": {
        "id": "c9x7fZk8lmdX"
      },
      "execution_count": 80,
      "outputs": []
    },
    {
      "cell_type": "code",
      "source": [
        "df_ucb.to_csv('df_ucb', index=False)"
      ],
      "metadata": {
        "id": "NDvpqEl9lzvX"
      },
      "execution_count": 81,
      "outputs": []
    },
    {
      "cell_type": "code",
      "source": [
        "#рисунок без чипса\n",
        "import matplotlib.pyplot as plt\n",
        "def plot_CIs_nochips(CIs, model):\n",
        "    fig, ax = plt.subplots(1, figsize=(10, 10))\n",
        "\n",
        "    x = test_sizes\n",
        "    colors = ['b', 'r', 'g', 'y', 'm', 'aquamarine']\n",
        "    i = 0\n",
        "    for name in ['ipw', 'dm', 'sndr', 'snipw', 'dr', 'mips']:\n",
        "        y_est = [estimated_ci[name][\"mean\"] for estimated_ci in CIs]\n",
        "        y_up = [estimated_ci[name][\"95.0% CI (upper)\"] for estimated_ci in CIs]\n",
        "        y_low = [estimated_ci[name][\"95.0% CI (lower)\"] for estimated_ci in CIs]\n",
        "\n",
        "        ax.plot(x, y_est, '-', label=name, color = colors[i])\n",
        "        ax.fill_between(x, y_low, y_up, alpha=0.2, color = colors[i])\n",
        "        i+=1\n",
        "\n",
        "    fig.suptitle(\"OPE for \" + \" \" + model, fontsize=16)\n",
        "    fig.legend(bbox_to_anchor=(1.04, 1), loc=\"upper left\")\n",
        "    plt.tight_layout()"
      ],
      "metadata": {
        "id": "Fjbuj7Ipl2mu"
      },
      "execution_count": 82,
      "outputs": []
    },
    {
      "cell_type": "code",
      "source": [
        "plot_CIs_nochips(CIs_ucb, 'ucb')"
      ],
      "metadata": {
        "colab": {
          "base_uri": "https://localhost:8080/",
          "height": 1000
        },
        "id": "6d92uJ0pmHoI",
        "outputId": "9c58f7d0-d4b3-4156-ae64-dd55450907d5"
      },
      "execution_count": 83,
      "outputs": [
        {
          "output_type": "display_data",
          "data": {
            "text/plain": [
              "<Figure size 1000x1000 with 1 Axes>"
            ],
            "image/png": "[encoded data removed]"
          },
          "metadata": {}
        }
      ]
    },
    {
      "cell_type": "code",
      "source": [
        "CIs_linucb = run_exp(all_action_dist_linucb, DM_method_1_linucb)"
      ],
      "metadata": {
        "colab": {
          "base_uri": "https://localhost:8080/"
        },
        "id": "bs19Wcoms49Q",
        "outputId": "55668aef-35eb-4115-bde6-1b7b08d7ec0d"
      },
      "execution_count": 84,
      "outputs": [
        {
          "output_type": "stream",
          "name": "stdout",
          "text": [
            "82459\n",
            "164918\n",
            "247377\n",
            "412299\n"
          ]
        }
      ]
    },
    {
      "cell_type": "code",
      "source": [
        "plot_CIs(CIs_linucb, 'lin_ucb')"
      ],
      "metadata": {
        "id": "cQ_ADWSWUvs4",
        "colab": {
          "base_uri": "https://localhost:8080/",
          "height": 1000
        },
        "outputId": "128b9cc6-9387-41ce-b136-3a6e2b12b60c"
      },
      "execution_count": 85,
      "outputs": [
        {
          "output_type": "display_data",
          "data": {
            "text/plain": [
              "<Figure size 1000x1000 with 1 Axes>"
            ],
            "image/png": "[encoded data removed]"
          },
          "metadata": {}
        }
      ]
    },
    {
      "cell_type": "code",
      "source": [
        "rows_linucb = []\n",
        "for i, ci_dict in enumerate(CIs_linucb):\n",
        "  for method, values in ci_dict.items():\n",
        "      rows_ucb.append({\n",
        "          \"test_size\": test_sizes[i],\n",
        "          \"Method\": method,\n",
        "          \"Mean\": values[\"mean\"],\n",
        "          \"95% CI Lower\": values[\"95.0% CI (lower)\"],\n",
        "          \"95% CI Upper\": values[\"95.0% CI (upper)\"],\n",
        "          \"Size of CI\": values[\"95.0% CI (upper)\"] - values[\"95.0% CI (lower)\"]\n",
        "      })\n",
        "\n",
        "df_linucb = pd.DataFrame(rows_linucb)"
      ],
      "metadata": {
        "id": "uACzJnR6oXmI"
      },
      "execution_count": 89,
      "outputs": []
    },
    {
      "cell_type": "code",
      "source": [
        "df_linucb.to_csv('df_linucb', index=False)"
      ],
      "metadata": {
        "id": "8evpENPKMve-"
      },
      "execution_count": 90,
      "outputs": []
    },
    {
      "cell_type": "code",
      "source": [
        "plot_CIs_nochips(CIs_linucb, 'lin_ucb')"
      ],
      "metadata": {
        "colab": {
          "base_uri": "https://localhost:8080/",
          "height": 1000
        },
        "id": "vsRSuUIl3Tp-",
        "outputId": "9574ba89-d8ba-430f-9e9d-b2ac864641e0"
      },
      "execution_count": 91,
      "outputs": [
        {
          "output_type": "display_data",
          "data": {
            "text/plain": [
              "<Figure size 1000x1000 with 1 Axes>"
            ],
            "image/png": "[encoded data removed]"
          },
          "metadata": {}
        }
      ]
    },
    {
      "cell_type": "code",
      "source": [
        "\n"
      ],
      "metadata": {
        "id": "t7EP2ZsS3jtW"
      },
      "execution_count": null,
      "outputs": []
    },
    {
      "cell_type": "code",
      "source": [],
      "metadata": {
        "id": "I4iDd1jm3Ty3"
      },
      "execution_count": null,
      "outputs": []
    },
    {
      "cell_type": "code",
      "source": [
        "\n"
      ],
      "metadata": {
        "id": "WaQULQEh9NyC"
      },
      "execution_count": null,
      "outputs": []
    },
    {
      "cell_type": "code",
      "source": [
        "df_ucb"
      ],
      "metadata": {
        "id": "EMKV4-yI-n1T"
      },
      "execution_count": null,
      "outputs": []
    },
    {
      "cell_type": "code",
      "source": [
        "#шум"
      ],
      "metadata": {
        "id": "pWW7AMVbesL0"
      },
      "execution_count": null,
      "outputs": []
    },
    {
      "cell_type": "code",
      "source": [
        "bandit_behavior_policies = bandit_feedback_test['pscore']\n",
        "\n",
        "noise = np.random.binomial(n=1, p=np.exp(-4), size=bandit_behavior_policies.shape)\n",
        "\n",
        "noise = noise * 1e-4\n",
        "\n",
        "bandit_behavior_policies_noisy = bandit_behavior_policies + noise\n",
        "\n",
        "bandit_behavior_policies_noisy = bandit_behavior_policies_noisy.clip(0, 1)"
      ],
      "metadata": {
        "id": "1IfVqNuRjvRj"
      },
      "execution_count": null,
      "outputs": []
    },
    {
      "cell_type": "code",
      "source": [
        "#я не меняла твою, чтобы вдруг косяк у меня, поэтому добавила эту\n",
        "def run_exp(all_action_dist, DM_method):\n",
        "    metrics = ['ipw', 'snipw', 'dr', 'sndr', 'dm', 'mips', 'chips', 'chips_mod']\n",
        "    pi_e = all_action_dist[np.arange(bandit_feedback_test['action'].shape[0]), bandit_feedback_test['action'], 0].copy()\n",
        "    cnt_inner_bootstraps = 300\n",
        "    _alpha = 0.05\n",
        "    CIs = []\n",
        "\n",
        "    for n_size in test_sizes:\n",
        "        res = {}\n",
        "        pi_e_subset = pi_e[:n_size].copy()\n",
        "        r_hat_subset = r_hat[:n_size].copy()\n",
        "        r_subset = bandit_feedback_test['reward'][:n_size].copy()\n",
        "        dm_subset = DM_method[:n_size].copy()\n",
        "        stats = {}\n",
        "        print(f\"Processing test size: {n_size}\")\n",
        "\n",
        "        for metric in metrics:\n",
        "            stats[metric] = []\n",
        "\n",
        "        behavior_policies = bandit_behavior_policies_noisy\n",
        "        context_subset = bandit_feedback_test['context'][:n_size]\n",
        "        action_subset = bandit_feedback_test['action'][:n_size]\n",
        "        action_embed_subset = bandit_feedback_test['action_context'][:n_size]\n",
        "        pi_0_subset = behavior_policies[:n_size]\n",
        "\n",
        "        ipw_est_round_rewards = ipw(pi_e_subset, pi_0_subset, r_subset, r_hat_subset)\n",
        "        snipw_est_round_rewards = snipw(pi_e_subset, pi_0_subset, r_subset, r_hat_subset)\n",
        "        sndr_est_round_rewards = sndr(pi_e_subset, pi_0_subset, r_subset, r_hat_subset, dm_subset)\n",
        "        dr_est_round_rewards = dr(pi_e_subset, pi_0_subset, r_subset, r_hat_subset, dm_subset)\n",
        "        dm_est_round_rewards = dm(dm_subset)\n",
        "        mips_est_round_rewards = mips(pi_e_subset, pi_0_subset, r_subset, context_subset, action_subset, action_embed_subset)\n",
        "        chips_est_round_rewards = chips(pi_e_subset, pi_0_subset, r_subset, r_hat_subset, clasters[:n_size], bandit_feedback_test['action'][:n_size])\n",
        "        chips_mod_est_round_rewards = chips_modified(all_action_dist[:n_size], pi_0_subset, r_subset, r_hat_subset, clasters[:n_size], bandit_feedback_test['action'][:n_size])\n",
        "\n",
        "        for j in range(cnt_inner_bootstraps):\n",
        "            bootstrap_idxs = np.random.randint(n_size, size=n_size)\n",
        "            stats['ipw'].append(ipw_est_round_rewards[bootstrap_idxs].mean())\n",
        "            stats['snipw'].append(snipw_est_round_rewards[bootstrap_idxs].mean())\n",
        "            stats['sndr'].append(sndr_est_round_rewards[bootstrap_idxs].mean())\n",
        "            stats['dm'].append(dm_est_round_rewards[bootstrap_idxs].mean())\n",
        "            stats['dr'].append(dr_est_round_rewards[bootstrap_idxs].mean())\n",
        "            stats['mips'].append(mips_est_round_rewards[bootstrap_idxs].mean())\n",
        "            stats['chips'].append(chips_est_round_rewards[bootstrap_idxs].mean())\n",
        "            stats['chips_mod'].append(chips_mod_est_round_rewards[bootstrap_idxs].mean())\n",
        "\n",
        "\n",
        "        for metric in metrics:\n",
        "            values = stats[metric]\n",
        "            res[metric] = {\n",
        "                'mean': np.mean(values),\n",
        "                '95.0% CI (lower)': np.percentile(values, 100 * (_alpha / 2)),\n",
        "                '95.0% CI (upper)': np.percentile(values, 100 * (1.0 - _alpha / 2))\n",
        "            }\n",
        "\n",
        "        CIs.append(res)\n",
        "\n",
        "    return CIs\n"
      ],
      "metadata": {
        "id": "MIQzYdZccQ3i"
      },
      "execution_count": null,
      "outputs": []
    },
    {
      "cell_type": "code",
      "source": [
        "CIs_ucb = run_exp(all_action_dist_ucb, DM_method_1_ucb)"
      ],
      "metadata": {
        "id": "AcZPY-SjcQ9_"
      },
      "execution_count": null,
      "outputs": []
    },
    {
      "cell_type": "code",
      "source": [],
      "metadata": {
        "id": "h9djIwShcRAb"
      },
      "execution_count": null,
      "outputs": []
    }
  ]
}